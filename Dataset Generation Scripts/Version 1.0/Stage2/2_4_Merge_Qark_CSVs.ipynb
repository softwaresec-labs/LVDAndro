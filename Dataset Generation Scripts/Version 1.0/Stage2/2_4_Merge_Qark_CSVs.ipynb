{
 "cells": [
  {
   "cell_type": "code",
   "execution_count": 1,
   "id": "5d4b437b",
   "metadata": {},
   "outputs": [],
   "source": [
    "import pandas as pd"
   ]
  },
  {
   "cell_type": "code",
   "execution_count": 2,
   "id": "ad2d69ac",
   "metadata": {},
   "outputs": [],
   "source": [
    "# df1 = pd.read_csv(\"D:/PhD/Model_Building/APKs_and_GitRepos/2_Round_APKs_Only/2_Round_APKs_Only_Qark_Set_1.csv\", names=[\"app_name\",\"category\",\"severity\",\"description\",\"name\",\"line_number\",\"file_object\",\"apk_exploit_dict\"])\n",
    "# df2 = pd.read_csv(\"D:/PhD/Model_Building/APKs_and_GitRepos/2_Round_APKs_Only/2_Round_APKs_Only_Qark_Set_2.csv\", names=[\"app_name\",\"category\",\"severity\",\"description\",\"name\",\"line_number\",\"file_object\",\"apk_exploit_dict\"])\n",
    "# df3 = pd.read_csv(\"D:/PhD/Model_Building/APKs_and_GitRepos/2_Round_APKs_Only/2_Round_APKs_Only_Qark_Set_3.csv\", names=[\"app_name\",\"category\",\"severity\",\"description\",\"name\",\"line_number\",\"file_object\",\"apk_exploit_dict\"])\n",
    "# df4 = pd.read_csv(\"D:/PhD/Model_Building/APKs_and_GitRepos/2_Round_APKs_Only/2_Round_APKs_Only_Qark_Set_4.csv\", names=[\"app_name\",\"category\",\"severity\",\"description\",\"name\",\"line_number\",\"file_object\",\"apk_exploit_dict\"])\n",
    "# df5 = pd.read_csv(\"D:/PhD/Model_Building/APKs_and_GitRepos/2_Round_APKs_Only/2_Round_APKs_Only_Qark_Set_5.csv\", names=[\"app_name\",\"category\",\"severity\",\"description\",\"name\",\"line_number\",\"file_object\",\"apk_exploit_dict\"])\n",
    "# df6 = pd.read_csv(\"D:/PhD/Model_Building/APKs_and_GitRepos/2_Round_APKs_Only/2_Round_APKs_Only_Qark_Set_6.csv\", names=[\"app_name\",\"category\",\"severity\",\"description\",\"name\",\"line_number\",\"file_object\",\"apk_exploit_dict\"])\n",
    "# df7 = pd.read_csv(\"D:/PhD/Model_Building/APKs_and_GitRepos/2_Round_APKs_Only/2_Round_APKs_Only_Qark_Set_7.csv\", names=[\"app_name\",\"category\",\"severity\",\"description\",\"name\",\"line_number\",\"file_object\",\"apk_exploit_dict\"])\n",
    "# df8 = pd.read_csv(\"D:/PhD/Model_Building/APKs_and_GitRepos/2_Round_APKs_Only/2_Round_APKs_Only_Qark_Set_8.csv\", names=[\"app_name\",\"category\",\"severity\",\"description\",\"name\",\"line_number\",\"file_object\",\"apk_exploit_dict\"])\n",
    "# df9 = pd.read_csv(\"D:/PhD/Model_Building/APKs_and_GitRepos/2_Round_APKs_Only/2_Round_APKs_Only_Qark_Set_9.csv\", names=[\"app_name\",\"category\",\"severity\",\"description\",\"name\",\"line_number\",\"file_object\",\"apk_exploit_dict\"])\n",
    "# df10 = pd.read_csv(\"D:/PhD/Model_Building/APKs_and_GitRepos/2_Round_APKs_Only/2_Round_APKs_Only_Qark_Set_10.csv\", names=[\"app_name\",\"category\",\"severity\",\"description\",\"name\",\"line_number\",\"file_object\",\"apk_exploit_dict\"])\n",
    "\n",
    "df1 = pd.read_csv(\"I:/Qark_CSV_Fixed/R8/Qark_Scanned_App_Details_R8_S1.csv\", names=[\"app_name\",\"category\",\"severity\",\"description\",\"name\",\"line_number\",\"file_object\",\"apk_exploit_dict\"])"
   ]
  },
  {
   "cell_type": "code",
   "execution_count": 3,
   "id": "e4e9c3b9",
   "metadata": {},
   "outputs": [],
   "source": [
    "# df = pd.concat([df1,df2,df3,df4,df5,df6,df7,df8, df9, df10], ignore_index=False, names=[\"app_name\",\"category\",\"severity\",\"description\",\"name\",\"line_number\",\"file_object\",\"apk_exploit_dict\"])\n",
    "\n",
    "df = pd.concat([df1], ignore_index=False, names=[\"app_name\",\"category\",\"severity\",\"description\",\"name\",\"line_number\",\"file_object\",\"apk_exploit_dict\"])"
   ]
  },
  {
   "cell_type": "code",
   "execution_count": 4,
   "id": "2643a684",
   "metadata": {},
   "outputs": [
    {
     "data": {
      "text/plain": [
       "(16348, 8)"
      ]
     },
     "execution_count": 4,
     "metadata": {},
     "output_type": "execute_result"
    }
   ],
   "source": [
    "df.shape"
   ]
  },
  {
   "cell_type": "code",
   "execution_count": 5,
   "id": "fd7ebe0e",
   "metadata": {},
   "outputs": [
    {
     "data": {
      "text/html": [
       "<div>\n",
       "<style scoped>\n",
       "    .dataframe tbody tr th:only-of-type {\n",
       "        vertical-align: middle;\n",
       "    }\n",
       "\n",
       "    .dataframe tbody tr th {\n",
       "        vertical-align: top;\n",
       "    }\n",
       "\n",
       "    .dataframe thead th {\n",
       "        text-align: right;\n",
       "    }\n",
       "</style>\n",
       "<table border=\"1\" class=\"dataframe\">\n",
       "  <thead>\n",
       "    <tr style=\"text-align: right;\">\n",
       "      <th></th>\n",
       "      <th>app_name</th>\n",
       "      <th>category</th>\n",
       "      <th>severity</th>\n",
       "      <th>description</th>\n",
       "      <th>name</th>\n",
       "      <th>line_number</th>\n",
       "      <th>file_object</th>\n",
       "      <th>apk_exploit_dict</th>\n",
       "    </tr>\n",
       "  </thead>\n",
       "  <tbody>\n",
       "    <tr>\n",
       "      <th>0</th>\n",
       "      <td>yalp-store-fork</td>\n",
       "      <td>file</td>\n",
       "      <td>WARNING</td>\n",
       "      <td>Logs are detected. This may allow potential le...</td>\n",
       "      <td>Logging found</td>\n",
       "      <td>[73_ 7]</td>\n",
       "      <td>I:\\Qark_R7\\R7_S3\\yalp-store-fork\\Qark_Reversed...</td>\n",
       "      <td>None</td>\n",
       "    </tr>\n",
       "    <tr>\n",
       "      <th>1</th>\n",
       "      <td>yalp-store-fork</td>\n",
       "      <td>file</td>\n",
       "      <td>WARNING</td>\n",
       "      <td>Logs are detected. This may allow potential le...</td>\n",
       "      <td>Logging found</td>\n",
       "      <td>[63_ 13]</td>\n",
       "      <td>I:\\Qark_R7\\R7_S3\\yalp-store-fork\\Qark_Reversed...</td>\n",
       "      <td>None</td>\n",
       "    </tr>\n",
       "    <tr>\n",
       "      <th>2</th>\n",
       "      <td>yalp-store-fork</td>\n",
       "      <td>file</td>\n",
       "      <td>WARNING</td>\n",
       "      <td>Logs are detected. This may allow potential le...</td>\n",
       "      <td>Logging found</td>\n",
       "      <td>[39_ 13]</td>\n",
       "      <td>I:\\Qark_R7\\R7_S3\\yalp-store-fork\\Qark_Reversed...</td>\n",
       "      <td>None</td>\n",
       "    </tr>\n",
       "    <tr>\n",
       "      <th>3</th>\n",
       "      <td>yalp-store-fork</td>\n",
       "      <td>manifest</td>\n",
       "      <td>WARNING</td>\n",
       "      <td>Be careful with use of Check permission functi...</td>\n",
       "      <td>Potientially vulnerable check permission funct...</td>\n",
       "      <td>None</td>\n",
       "      <td>I:\\Qark_R7\\R7_S3\\yalp-store-fork\\Qark_Reversed...</td>\n",
       "      <td>None</td>\n",
       "    </tr>\n",
       "    <tr>\n",
       "      <th>4</th>\n",
       "      <td>yalp-store-fork</td>\n",
       "      <td>manifest</td>\n",
       "      <td>WARNING</td>\n",
       "      <td>Be careful with use of Check permission functi...</td>\n",
       "      <td>Potientially vulnerable check permission funct...</td>\n",
       "      <td>None</td>\n",
       "      <td>I:\\Qark_R7\\R7_S3\\yalp-store-fork\\Qark_Reversed...</td>\n",
       "      <td>None</td>\n",
       "    </tr>\n",
       "  </tbody>\n",
       "</table>\n",
       "</div>"
      ],
      "text/plain": [
       "          app_name  category severity  \\\n",
       "0  yalp-store-fork      file  WARNING   \n",
       "1  yalp-store-fork      file  WARNING   \n",
       "2  yalp-store-fork      file  WARNING   \n",
       "3  yalp-store-fork  manifest  WARNING   \n",
       "4  yalp-store-fork  manifest  WARNING   \n",
       "\n",
       "                                         description  \\\n",
       "0  Logs are detected. This may allow potential le...   \n",
       "1  Logs are detected. This may allow potential le...   \n",
       "2  Logs are detected. This may allow potential le...   \n",
       "3  Be careful with use of Check permission functi...   \n",
       "4  Be careful with use of Check permission functi...   \n",
       "\n",
       "                                                name line_number  \\\n",
       "0                                      Logging found     [73_ 7]   \n",
       "1                                      Logging found    [63_ 13]   \n",
       "2                                      Logging found    [39_ 13]   \n",
       "3  Potientially vulnerable check permission funct...        None   \n",
       "4  Potientially vulnerable check permission funct...        None   \n",
       "\n",
       "                                         file_object apk_exploit_dict  \n",
       "0  I:\\Qark_R7\\R7_S3\\yalp-store-fork\\Qark_Reversed...             None  \n",
       "1  I:\\Qark_R7\\R7_S3\\yalp-store-fork\\Qark_Reversed...             None  \n",
       "2  I:\\Qark_R7\\R7_S3\\yalp-store-fork\\Qark_Reversed...             None  \n",
       "3  I:\\Qark_R7\\R7_S3\\yalp-store-fork\\Qark_Reversed...             None  \n",
       "4  I:\\Qark_R7\\R7_S3\\yalp-store-fork\\Qark_Reversed...             None  "
      ]
     },
     "execution_count": 5,
     "metadata": {},
     "output_type": "execute_result"
    }
   ],
   "source": [
    "df.head()"
   ]
  },
  {
   "cell_type": "code",
   "execution_count": 6,
   "id": "ed25e31c",
   "metadata": {},
   "outputs": [],
   "source": [
    "df.to_csv(\"D:/PhD/Model_Building/Stage_4_Building_Vulnerability_Dataset/8_Round_Qark/8_Round_Qark_Analysis_without_CWE.csv\", \n",
    "                  header=[\"app_name\",\"category\",\"severity\",\"description\",\"name\",\"line_number\",\"file_object\",\"apk_exploit_dict\"], index=False)"
   ]
  },
  {
   "cell_type": "code",
   "execution_count": 7,
   "id": "f10e581d",
   "metadata": {},
   "outputs": [],
   "source": [
    "df_new = pd.read_csv(\"D:/PhD/Model_Building/Stage_4_Building_Vulnerability_Dataset/8_Round_Qark/8_Round_Qark_Analysis_without_CWE.csv\")"
   ]
  },
  {
   "cell_type": "code",
   "execution_count": 8,
   "id": "92a1d864",
   "metadata": {},
   "outputs": [
    {
     "data": {
      "text/html": [
       "<div>\n",
       "<style scoped>\n",
       "    .dataframe tbody tr th:only-of-type {\n",
       "        vertical-align: middle;\n",
       "    }\n",
       "\n",
       "    .dataframe tbody tr th {\n",
       "        vertical-align: top;\n",
       "    }\n",
       "\n",
       "    .dataframe thead th {\n",
       "        text-align: right;\n",
       "    }\n",
       "</style>\n",
       "<table border=\"1\" class=\"dataframe\">\n",
       "  <thead>\n",
       "    <tr style=\"text-align: right;\">\n",
       "      <th></th>\n",
       "      <th>app_name</th>\n",
       "      <th>category</th>\n",
       "      <th>severity</th>\n",
       "      <th>description</th>\n",
       "      <th>name</th>\n",
       "      <th>line_number</th>\n",
       "      <th>file_object</th>\n",
       "      <th>apk_exploit_dict</th>\n",
       "    </tr>\n",
       "  </thead>\n",
       "  <tbody>\n",
       "    <tr>\n",
       "      <th>0</th>\n",
       "      <td>yalp-store-fork</td>\n",
       "      <td>file</td>\n",
       "      <td>WARNING</td>\n",
       "      <td>Logs are detected. This may allow potential le...</td>\n",
       "      <td>Logging found</td>\n",
       "      <td>[73_ 7]</td>\n",
       "      <td>I:\\Qark_R7\\R7_S3\\yalp-store-fork\\Qark_Reversed...</td>\n",
       "      <td>None</td>\n",
       "    </tr>\n",
       "    <tr>\n",
       "      <th>1</th>\n",
       "      <td>yalp-store-fork</td>\n",
       "      <td>file</td>\n",
       "      <td>WARNING</td>\n",
       "      <td>Logs are detected. This may allow potential le...</td>\n",
       "      <td>Logging found</td>\n",
       "      <td>[63_ 13]</td>\n",
       "      <td>I:\\Qark_R7\\R7_S3\\yalp-store-fork\\Qark_Reversed...</td>\n",
       "      <td>None</td>\n",
       "    </tr>\n",
       "    <tr>\n",
       "      <th>2</th>\n",
       "      <td>yalp-store-fork</td>\n",
       "      <td>file</td>\n",
       "      <td>WARNING</td>\n",
       "      <td>Logs are detected. This may allow potential le...</td>\n",
       "      <td>Logging found</td>\n",
       "      <td>[39_ 13]</td>\n",
       "      <td>I:\\Qark_R7\\R7_S3\\yalp-store-fork\\Qark_Reversed...</td>\n",
       "      <td>None</td>\n",
       "    </tr>\n",
       "    <tr>\n",
       "      <th>3</th>\n",
       "      <td>yalp-store-fork</td>\n",
       "      <td>manifest</td>\n",
       "      <td>WARNING</td>\n",
       "      <td>Be careful with use of Check permission functi...</td>\n",
       "      <td>Potientially vulnerable check permission funct...</td>\n",
       "      <td>None</td>\n",
       "      <td>I:\\Qark_R7\\R7_S3\\yalp-store-fork\\Qark_Reversed...</td>\n",
       "      <td>None</td>\n",
       "    </tr>\n",
       "    <tr>\n",
       "      <th>4</th>\n",
       "      <td>yalp-store-fork</td>\n",
       "      <td>manifest</td>\n",
       "      <td>WARNING</td>\n",
       "      <td>Be careful with use of Check permission functi...</td>\n",
       "      <td>Potientially vulnerable check permission funct...</td>\n",
       "      <td>None</td>\n",
       "      <td>I:\\Qark_R7\\R7_S3\\yalp-store-fork\\Qark_Reversed...</td>\n",
       "      <td>None</td>\n",
       "    </tr>\n",
       "  </tbody>\n",
       "</table>\n",
       "</div>"
      ],
      "text/plain": [
       "          app_name  category severity  \\\n",
       "0  yalp-store-fork      file  WARNING   \n",
       "1  yalp-store-fork      file  WARNING   \n",
       "2  yalp-store-fork      file  WARNING   \n",
       "3  yalp-store-fork  manifest  WARNING   \n",
       "4  yalp-store-fork  manifest  WARNING   \n",
       "\n",
       "                                         description  \\\n",
       "0  Logs are detected. This may allow potential le...   \n",
       "1  Logs are detected. This may allow potential le...   \n",
       "2  Logs are detected. This may allow potential le...   \n",
       "3  Be careful with use of Check permission functi...   \n",
       "4  Be careful with use of Check permission functi...   \n",
       "\n",
       "                                                name line_number  \\\n",
       "0                                      Logging found     [73_ 7]   \n",
       "1                                      Logging found    [63_ 13]   \n",
       "2                                      Logging found    [39_ 13]   \n",
       "3  Potientially vulnerable check permission funct...        None   \n",
       "4  Potientially vulnerable check permission funct...        None   \n",
       "\n",
       "                                         file_object apk_exploit_dict  \n",
       "0  I:\\Qark_R7\\R7_S3\\yalp-store-fork\\Qark_Reversed...             None  \n",
       "1  I:\\Qark_R7\\R7_S3\\yalp-store-fork\\Qark_Reversed...             None  \n",
       "2  I:\\Qark_R7\\R7_S3\\yalp-store-fork\\Qark_Reversed...             None  \n",
       "3  I:\\Qark_R7\\R7_S3\\yalp-store-fork\\Qark_Reversed...             None  \n",
       "4  I:\\Qark_R7\\R7_S3\\yalp-store-fork\\Qark_Reversed...             None  "
      ]
     },
     "execution_count": 8,
     "metadata": {},
     "output_type": "execute_result"
    }
   ],
   "source": [
    "df_new.head()"
   ]
  },
  {
   "cell_type": "code",
   "execution_count": 9,
   "id": "8923e195",
   "metadata": {},
   "outputs": [
    {
     "data": {
      "text/plain": [
       "(16348, 8)"
      ]
     },
     "execution_count": 9,
     "metadata": {},
     "output_type": "execute_result"
    }
   ],
   "source": [
    "df_new.shape"
   ]
  },
  {
   "cell_type": "code",
   "execution_count": null,
   "id": "9a7d8b84",
   "metadata": {},
   "outputs": [],
   "source": []
  }
 ],
 "metadata": {
  "kernelspec": {
   "display_name": "Python 3",
   "language": "python",
   "name": "python3"
  },
  "language_info": {
   "codemirror_mode": {
    "name": "ipython",
    "version": 3
   },
   "file_extension": ".py",
   "mimetype": "text/x-python",
   "name": "python",
   "nbconvert_exporter": "python",
   "pygments_lexer": "ipython3",
   "version": "3.8.8"
  }
 },
 "nbformat": 4,
 "nbformat_minor": 5
}
