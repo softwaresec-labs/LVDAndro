{
 "cells": [
  {
   "cell_type": "code",
   "execution_count": 1,
   "id": "ed058415",
   "metadata": {},
   "outputs": [],
   "source": [
    "import pandas as pd\n",
    "import re"
   ]
  },
  {
   "cell_type": "code",
   "execution_count": 2,
   "id": "5cb944b0",
   "metadata": {},
   "outputs": [],
   "source": [
    "APPLICATION_BASE_PATH = \"D:/PhD/Model_Building/Stage_4_Building_Vulnerability_Dataset/4_Round_MobSF\"\n",
    "unprocessed_csv = \"Scanned_App_Unprocessed_Dataset_20220529224207073607.csv\"\n",
    "processed_csv = unprocessed_csv.replace(\"Unprocessed\",\"Processed\")"
   ]
  },
  {
   "cell_type": "code",
   "execution_count": 3,
   "id": "3f7b7bfb",
   "metadata": {},
   "outputs": [],
   "source": [
    "def preprocess_comments_and_strings(code_line):\n",
    "    \n",
    "    processed_code_line = code_line\n",
    "\n",
    "    encryption_hashing_pattern = \"AES|aes|SHA-1|sha-1|SHA1|sha1|MD5|md5\"\n",
    "    ip_pattern = \"\\w*([0-9]{1,3})\\.([0-9]{1,3})\\.([0-9]{1,3})\\.([0-9]{1,3})\\w*\"\n",
    "    string_pattern = \"\\\"[\\w|\\s|$|&|+|,|:|;|=|?|@|#|_|/|\\-|\\.|!|`|~|%|\\^|\\*|\\(|\\)|\\'\\\\[|\\]\\{|\\}]*\\\"\"\n",
    "\n",
    "    # Checking for encryption related strings\n",
    "    find_encryption = re.search(encryption_hashing_pattern, processed_code_line)\n",
    "\n",
    "    # Checking for IP related strings\n",
    "    find_ip = re.search(ip_pattern, processed_code_line)\n",
    "\n",
    "    if (find_encryption is None) & (find_ip is None):\n",
    "        # replacing all strings with dummy string\n",
    "        processed_code_line = re.sub(string_pattern, \"\\\"user_str\\\"\", processed_code_line)\n",
    "        \n",
    "    # replacing comments with dummy comment\n",
    "    #comment_pattern = \"//.*|/\\\\*(?s:.*?)\\\\*/|(\\\"(?:(?<!\\\\\\\\)(?:\\\\\\\\\\\\\\\\)*\\\\\\\\\\\"|[^\\r\\n\\\"])*\\\")\"\n",
    "    comment_pattern = \"//.*|/\\\\*(?s:.*?)\\\\*/|/\\\\*(.)*|(.)*\\\\*/\"\n",
    "    processed_code_line = re.sub(comment_pattern, \"//user_comment\",processed_code_line)\n",
    "\n",
    "    return processed_code_line"
   ]
  },
  {
   "cell_type": "code",
   "execution_count": 4,
   "id": "1b54a5b6",
   "metadata": {},
   "outputs": [
    {
     "name": "stderr",
     "output_type": "stream",
     "text": [
      "C:\\Users\\janak\\anaconda3\\lib\\site-packages\\IPython\\core\\interactiveshell.py:3165: DtypeWarning: Columns (0,1,2,3,5,6,8,9,10,11,12) have mixed types.Specify dtype option on import or set low_memory=False.\n",
      "  has_raised = await self.run_ast_nodes(code_ast.body, cell_name,\n"
     ]
    }
   ],
   "source": [
    "unprocessed_dataset_df = pd.read_csv(APPLICATION_BASE_PATH+\"/\"+unprocessed_csv).fillna(\"\")"
   ]
  },
  {
   "cell_type": "code",
   "execution_count": 5,
   "id": "cfb82556",
   "metadata": {},
   "outputs": [
    {
     "data": {
      "text/html": [
       "<div>\n",
       "<style scoped>\n",
       "    .dataframe tbody tr th:only-of-type {\n",
       "        vertical-align: middle;\n",
       "    }\n",
       "\n",
       "    .dataframe tbody tr th {\n",
       "        vertical-align: top;\n",
       "    }\n",
       "\n",
       "    .dataframe thead th {\n",
       "        text-align: right;\n",
       "    }\n",
       "</style>\n",
       "<table border=\"1\" class=\"dataframe\">\n",
       "  <thead>\n",
       "    <tr style=\"text-align: right;\">\n",
       "      <th></th>\n",
       "      <th>ID</th>\n",
       "      <th>Description</th>\n",
       "      <th>Type</th>\n",
       "      <th>Pattern</th>\n",
       "      <th>Code</th>\n",
       "      <th>Severity</th>\n",
       "      <th>Input Case</th>\n",
       "      <th>CVSS</th>\n",
       "      <th>CWE_ID</th>\n",
       "      <th>CWE_Desc</th>\n",
       "      <th>OWASP_Mobile</th>\n",
       "      <th>OWSAP_MASVS</th>\n",
       "      <th>Reference</th>\n",
       "      <th>Vulnerability_status</th>\n",
       "    </tr>\n",
       "  </thead>\n",
       "  <tbody>\n",
       "    <tr>\n",
       "      <th>0</th>\n",
       "      <td></td>\n",
       "      <td></td>\n",
       "      <td></td>\n",
       "      <td></td>\n",
       "      <td>package v;</td>\n",
       "      <td></td>\n",
       "      <td></td>\n",
       "      <td></td>\n",
       "      <td></td>\n",
       "      <td></td>\n",
       "      <td></td>\n",
       "      <td></td>\n",
       "      <td></td>\n",
       "      <td>0</td>\n",
       "    </tr>\n",
       "    <tr>\n",
       "      <th>1</th>\n",
       "      <td></td>\n",
       "      <td></td>\n",
       "      <td></td>\n",
       "      <td></td>\n",
       "      <td></td>\n",
       "      <td></td>\n",
       "      <td></td>\n",
       "      <td></td>\n",
       "      <td></td>\n",
       "      <td></td>\n",
       "      <td></td>\n",
       "      <td></td>\n",
       "      <td></td>\n",
       "      <td>0</td>\n",
       "    </tr>\n",
       "    <tr>\n",
       "      <th>2</th>\n",
       "      <td></td>\n",
       "      <td></td>\n",
       "      <td></td>\n",
       "      <td></td>\n",
       "      <td>import android.content.res.ColorStateList;</td>\n",
       "      <td></td>\n",
       "      <td></td>\n",
       "      <td></td>\n",
       "      <td></td>\n",
       "      <td></td>\n",
       "      <td></td>\n",
       "      <td></td>\n",
       "      <td></td>\n",
       "      <td>0</td>\n",
       "    </tr>\n",
       "    <tr>\n",
       "      <th>3</th>\n",
       "      <td></td>\n",
       "      <td></td>\n",
       "      <td></td>\n",
       "      <td></td>\n",
       "      <td>import android.content.res.Resources;</td>\n",
       "      <td></td>\n",
       "      <td></td>\n",
       "      <td></td>\n",
       "      <td></td>\n",
       "      <td></td>\n",
       "      <td></td>\n",
       "      <td></td>\n",
       "      <td></td>\n",
       "      <td>0</td>\n",
       "    </tr>\n",
       "    <tr>\n",
       "      <th>4</th>\n",
       "      <td></td>\n",
       "      <td></td>\n",
       "      <td></td>\n",
       "      <td></td>\n",
       "      <td>import android.content.res.XmlResourceParser;</td>\n",
       "      <td></td>\n",
       "      <td></td>\n",
       "      <td></td>\n",
       "      <td></td>\n",
       "      <td></td>\n",
       "      <td></td>\n",
       "      <td></td>\n",
       "      <td></td>\n",
       "      <td>0</td>\n",
       "    </tr>\n",
       "  </tbody>\n",
       "</table>\n",
       "</div>"
      ],
      "text/plain": [
       "  ID Description Type Pattern                                           Code  \\\n",
       "0                                                                 package v;   \n",
       "1                                                                              \n",
       "2                                 import android.content.res.ColorStateList;   \n",
       "3                                      import android.content.res.Resources;   \n",
       "4                              import android.content.res.XmlResourceParser;   \n",
       "\n",
       "  Severity Input Case CVSS CWE_ID CWE_Desc OWASP_Mobile OWSAP_MASVS Reference  \\\n",
       "0                                                                               \n",
       "1                                                                               \n",
       "2                                                                               \n",
       "3                                                                               \n",
       "4                                                                               \n",
       "\n",
       "   Vulnerability_status  \n",
       "0                     0  \n",
       "1                     0  \n",
       "2                     0  \n",
       "3                     0  \n",
       "4                     0  "
      ]
     },
     "execution_count": 5,
     "metadata": {},
     "output_type": "execute_result"
    }
   ],
   "source": [
    "unprocessed_dataset_df.head()"
   ]
  },
  {
   "cell_type": "code",
   "execution_count": 6,
   "id": "d80bb8b5",
   "metadata": {},
   "outputs": [
    {
     "data": {
      "text/plain": [
       "0                                                 package v;\n",
       "1                                                           \n",
       "2                 import android.content.res.ColorStateList;\n",
       "3                      import android.content.res.Resources;\n",
       "4              import android.content.res.XmlResourceParser;\n",
       "                                 ...                        \n",
       "1507522                                   return newBuffer2;\n",
       "1507523                OutputStream output2 = write(append);\n",
       "1507524    byte[] buffer = new byte[G3dConstants.STILL_MO...\n",
       "1507525                    output2.write(buffer, 0, length);\n",
       "1507526                parent = new File(StringUtils.EMPTY);\n",
       "Name: Code, Length: 1507527, dtype: object"
      ]
     },
     "execution_count": 6,
     "metadata": {},
     "output_type": "execute_result"
    }
   ],
   "source": [
    "unprocessed_dataset_df.Code"
   ]
  },
  {
   "cell_type": "code",
   "execution_count": 7,
   "id": "11ed72d7",
   "metadata": {},
   "outputs": [],
   "source": [
    "comments_and_strings_processed_codes=[]\n",
    "for code in unprocessed_dataset_df.Code:\n",
    "    processed_code=preprocess_comments_and_strings(code)\n",
    "    comments_and_strings_processed_codes.append(processed_code)"
   ]
  },
  {
   "cell_type": "code",
   "execution_count": 8,
   "id": "1e95b219",
   "metadata": {},
   "outputs": [
    {
     "name": "stdout",
     "output_type": "stream",
     "text": [
      "0                                                 package v;\n",
      "1                                                           \n",
      "2                 import android.content.res.ColorStateList;\n",
      "3                      import android.content.res.Resources;\n",
      "4              import android.content.res.XmlResourceParser;\n",
      "                                 ...                        \n",
      "1507522                                   return newBuffer2;\n",
      "1507523                OutputStream output2 = write(append);\n",
      "1507524    byte[] buffer = new byte[G3dConstants.STILL_MO...\n",
      "1507525                    output2.write(buffer, 0, length);\n",
      "1507526                parent = new File(StringUtils.EMPTY);\n",
      "Length: 1507527, dtype: object\n"
     ]
    }
   ],
   "source": [
    "comments_and_strings_processed_codes_series= pd.Series(comments_and_strings_processed_codes)\n",
    "print(comments_and_strings_processed_codes_series)"
   ]
  },
  {
   "cell_type": "code",
   "execution_count": 9,
   "id": "68419843",
   "metadata": {},
   "outputs": [],
   "source": [
    "unprocessed_dataset_df[\"processed_code\"]= comments_and_strings_processed_codes"
   ]
  },
  {
   "cell_type": "code",
   "execution_count": 10,
   "id": "9e3db8f6",
   "metadata": {},
   "outputs": [
    {
     "data": {
      "text/html": [
       "<div>\n",
       "<style scoped>\n",
       "    .dataframe tbody tr th:only-of-type {\n",
       "        vertical-align: middle;\n",
       "    }\n",
       "\n",
       "    .dataframe tbody tr th {\n",
       "        vertical-align: top;\n",
       "    }\n",
       "\n",
       "    .dataframe thead th {\n",
       "        text-align: right;\n",
       "    }\n",
       "</style>\n",
       "<table border=\"1\" class=\"dataframe\">\n",
       "  <thead>\n",
       "    <tr style=\"text-align: right;\">\n",
       "      <th></th>\n",
       "      <th>ID</th>\n",
       "      <th>Description</th>\n",
       "      <th>Type</th>\n",
       "      <th>Pattern</th>\n",
       "      <th>Code</th>\n",
       "      <th>Severity</th>\n",
       "      <th>Input Case</th>\n",
       "      <th>CVSS</th>\n",
       "      <th>CWE_ID</th>\n",
       "      <th>CWE_Desc</th>\n",
       "      <th>OWASP_Mobile</th>\n",
       "      <th>OWSAP_MASVS</th>\n",
       "      <th>Reference</th>\n",
       "      <th>Vulnerability_status</th>\n",
       "      <th>processed_code</th>\n",
       "    </tr>\n",
       "  </thead>\n",
       "  <tbody>\n",
       "    <tr>\n",
       "      <th>0</th>\n",
       "      <td></td>\n",
       "      <td></td>\n",
       "      <td></td>\n",
       "      <td></td>\n",
       "      <td>package v;</td>\n",
       "      <td></td>\n",
       "      <td></td>\n",
       "      <td></td>\n",
       "      <td></td>\n",
       "      <td></td>\n",
       "      <td></td>\n",
       "      <td></td>\n",
       "      <td></td>\n",
       "      <td>0</td>\n",
       "      <td>package v;</td>\n",
       "    </tr>\n",
       "    <tr>\n",
       "      <th>1</th>\n",
       "      <td></td>\n",
       "      <td></td>\n",
       "      <td></td>\n",
       "      <td></td>\n",
       "      <td></td>\n",
       "      <td></td>\n",
       "      <td></td>\n",
       "      <td></td>\n",
       "      <td></td>\n",
       "      <td></td>\n",
       "      <td></td>\n",
       "      <td></td>\n",
       "      <td></td>\n",
       "      <td>0</td>\n",
       "      <td></td>\n",
       "    </tr>\n",
       "    <tr>\n",
       "      <th>2</th>\n",
       "      <td></td>\n",
       "      <td></td>\n",
       "      <td></td>\n",
       "      <td></td>\n",
       "      <td>import android.content.res.ColorStateList;</td>\n",
       "      <td></td>\n",
       "      <td></td>\n",
       "      <td></td>\n",
       "      <td></td>\n",
       "      <td></td>\n",
       "      <td></td>\n",
       "      <td></td>\n",
       "      <td></td>\n",
       "      <td>0</td>\n",
       "      <td>import android.content.res.ColorStateList;</td>\n",
       "    </tr>\n",
       "    <tr>\n",
       "      <th>3</th>\n",
       "      <td></td>\n",
       "      <td></td>\n",
       "      <td></td>\n",
       "      <td></td>\n",
       "      <td>import android.content.res.Resources;</td>\n",
       "      <td></td>\n",
       "      <td></td>\n",
       "      <td></td>\n",
       "      <td></td>\n",
       "      <td></td>\n",
       "      <td></td>\n",
       "      <td></td>\n",
       "      <td></td>\n",
       "      <td>0</td>\n",
       "      <td>import android.content.res.Resources;</td>\n",
       "    </tr>\n",
       "    <tr>\n",
       "      <th>4</th>\n",
       "      <td></td>\n",
       "      <td></td>\n",
       "      <td></td>\n",
       "      <td></td>\n",
       "      <td>import android.content.res.XmlResourceParser;</td>\n",
       "      <td></td>\n",
       "      <td></td>\n",
       "      <td></td>\n",
       "      <td></td>\n",
       "      <td></td>\n",
       "      <td></td>\n",
       "      <td></td>\n",
       "      <td></td>\n",
       "      <td>0</td>\n",
       "      <td>import android.content.res.XmlResourceParser;</td>\n",
       "    </tr>\n",
       "  </tbody>\n",
       "</table>\n",
       "</div>"
      ],
      "text/plain": [
       "  ID Description Type Pattern                                           Code  \\\n",
       "0                                                                 package v;   \n",
       "1                                                                              \n",
       "2                                 import android.content.res.ColorStateList;   \n",
       "3                                      import android.content.res.Resources;   \n",
       "4                              import android.content.res.XmlResourceParser;   \n",
       "\n",
       "  Severity Input Case CVSS CWE_ID CWE_Desc OWASP_Mobile OWSAP_MASVS Reference  \\\n",
       "0                                                                               \n",
       "1                                                                               \n",
       "2                                                                               \n",
       "3                                                                               \n",
       "4                                                                               \n",
       "\n",
       "   Vulnerability_status                                 processed_code  \n",
       "0                     0                                     package v;  \n",
       "1                     0                                                 \n",
       "2                     0     import android.content.res.ColorStateList;  \n",
       "3                     0          import android.content.res.Resources;  \n",
       "4                     0  import android.content.res.XmlResourceParser;  "
      ]
     },
     "execution_count": 10,
     "metadata": {},
     "output_type": "execute_result"
    }
   ],
   "source": [
    "unprocessed_dataset_df.head()"
   ]
  },
  {
   "cell_type": "code",
   "execution_count": 11,
   "id": "a9c99724",
   "metadata": {},
   "outputs": [],
   "source": [
    "#processed_df = unprocessed_dataset_df.drop('Code', axis=1)\n",
    "processed_df = unprocessed_dataset_df"
   ]
  },
  {
   "cell_type": "code",
   "execution_count": 12,
   "id": "135f7105",
   "metadata": {
    "scrolled": true
   },
   "outputs": [
    {
     "data": {
      "text/html": [
       "<div>\n",
       "<style scoped>\n",
       "    .dataframe tbody tr th:only-of-type {\n",
       "        vertical-align: middle;\n",
       "    }\n",
       "\n",
       "    .dataframe tbody tr th {\n",
       "        vertical-align: top;\n",
       "    }\n",
       "\n",
       "    .dataframe thead th {\n",
       "        text-align: right;\n",
       "    }\n",
       "</style>\n",
       "<table border=\"1\" class=\"dataframe\">\n",
       "  <thead>\n",
       "    <tr style=\"text-align: right;\">\n",
       "      <th></th>\n",
       "      <th>ID</th>\n",
       "      <th>Description</th>\n",
       "      <th>Type</th>\n",
       "      <th>Pattern</th>\n",
       "      <th>Code</th>\n",
       "      <th>Severity</th>\n",
       "      <th>Input Case</th>\n",
       "      <th>CVSS</th>\n",
       "      <th>CWE_ID</th>\n",
       "      <th>CWE_Desc</th>\n",
       "      <th>OWASP_Mobile</th>\n",
       "      <th>OWSAP_MASVS</th>\n",
       "      <th>Reference</th>\n",
       "      <th>Vulnerability_status</th>\n",
       "      <th>processed_code</th>\n",
       "    </tr>\n",
       "  </thead>\n",
       "  <tbody>\n",
       "    <tr>\n",
       "      <th>0</th>\n",
       "      <td></td>\n",
       "      <td></td>\n",
       "      <td></td>\n",
       "      <td></td>\n",
       "      <td>package v;</td>\n",
       "      <td></td>\n",
       "      <td></td>\n",
       "      <td></td>\n",
       "      <td></td>\n",
       "      <td></td>\n",
       "      <td></td>\n",
       "      <td></td>\n",
       "      <td></td>\n",
       "      <td>0</td>\n",
       "      <td>package v;</td>\n",
       "    </tr>\n",
       "    <tr>\n",
       "      <th>1</th>\n",
       "      <td></td>\n",
       "      <td></td>\n",
       "      <td></td>\n",
       "      <td></td>\n",
       "      <td></td>\n",
       "      <td></td>\n",
       "      <td></td>\n",
       "      <td></td>\n",
       "      <td></td>\n",
       "      <td></td>\n",
       "      <td></td>\n",
       "      <td></td>\n",
       "      <td></td>\n",
       "      <td>0</td>\n",
       "      <td></td>\n",
       "    </tr>\n",
       "    <tr>\n",
       "      <th>2</th>\n",
       "      <td></td>\n",
       "      <td></td>\n",
       "      <td></td>\n",
       "      <td></td>\n",
       "      <td>import android.content.res.ColorStateList;</td>\n",
       "      <td></td>\n",
       "      <td></td>\n",
       "      <td></td>\n",
       "      <td></td>\n",
       "      <td></td>\n",
       "      <td></td>\n",
       "      <td></td>\n",
       "      <td></td>\n",
       "      <td>0</td>\n",
       "      <td>import android.content.res.ColorStateList;</td>\n",
       "    </tr>\n",
       "    <tr>\n",
       "      <th>3</th>\n",
       "      <td></td>\n",
       "      <td></td>\n",
       "      <td></td>\n",
       "      <td></td>\n",
       "      <td>import android.content.res.Resources;</td>\n",
       "      <td></td>\n",
       "      <td></td>\n",
       "      <td></td>\n",
       "      <td></td>\n",
       "      <td></td>\n",
       "      <td></td>\n",
       "      <td></td>\n",
       "      <td></td>\n",
       "      <td>0</td>\n",
       "      <td>import android.content.res.Resources;</td>\n",
       "    </tr>\n",
       "    <tr>\n",
       "      <th>4</th>\n",
       "      <td></td>\n",
       "      <td></td>\n",
       "      <td></td>\n",
       "      <td></td>\n",
       "      <td>import android.content.res.XmlResourceParser;</td>\n",
       "      <td></td>\n",
       "      <td></td>\n",
       "      <td></td>\n",
       "      <td></td>\n",
       "      <td></td>\n",
       "      <td></td>\n",
       "      <td></td>\n",
       "      <td></td>\n",
       "      <td>0</td>\n",
       "      <td>import android.content.res.XmlResourceParser;</td>\n",
       "    </tr>\n",
       "  </tbody>\n",
       "</table>\n",
       "</div>"
      ],
      "text/plain": [
       "  ID Description Type Pattern                                           Code  \\\n",
       "0                                                                 package v;   \n",
       "1                                                                              \n",
       "2                                 import android.content.res.ColorStateList;   \n",
       "3                                      import android.content.res.Resources;   \n",
       "4                              import android.content.res.XmlResourceParser;   \n",
       "\n",
       "  Severity Input Case CVSS CWE_ID CWE_Desc OWASP_Mobile OWSAP_MASVS Reference  \\\n",
       "0                                                                               \n",
       "1                                                                               \n",
       "2                                                                               \n",
       "3                                                                               \n",
       "4                                                                               \n",
       "\n",
       "   Vulnerability_status                                 processed_code  \n",
       "0                     0                                     package v;  \n",
       "1                     0                                                 \n",
       "2                     0     import android.content.res.ColorStateList;  \n",
       "3                     0          import android.content.res.Resources;  \n",
       "4                     0  import android.content.res.XmlResourceParser;  "
      ]
     },
     "execution_count": 12,
     "metadata": {},
     "output_type": "execute_result"
    }
   ],
   "source": [
    "processed_df.head()"
   ]
  },
  {
   "cell_type": "code",
   "execution_count": 13,
   "id": "709ce2d8",
   "metadata": {},
   "outputs": [
    {
     "name": "stdout",
     "output_type": "stream",
     "text": [
      "22612905 , 22612905\n"
     ]
    }
   ],
   "source": [
    "print(unprocessed_dataset_df.size ,\",\", processed_df.size)"
   ]
  },
  {
   "cell_type": "code",
   "execution_count": 14,
   "id": "68c29f38",
   "metadata": {},
   "outputs": [],
   "source": [
    "processed_df.drop_duplicates(subset=['processed_code', 'CWE_ID'], inplace=True)"
   ]
  },
  {
   "cell_type": "code",
   "execution_count": 15,
   "id": "70dc9158",
   "metadata": {},
   "outputs": [
    {
     "data": {
      "text/plain": [
       "20987400"
      ]
     },
     "execution_count": 15,
     "metadata": {},
     "output_type": "execute_result"
    }
   ],
   "source": [
    "processed_df.size"
   ]
  },
  {
   "cell_type": "code",
   "execution_count": 16,
   "id": "d04d9fb7",
   "metadata": {},
   "outputs": [],
   "source": [
    "processed_df.to_csv(APPLICATION_BASE_PATH+\"/\"+processed_csv, sep=',', encoding='utf-8', index=False)"
   ]
  },
  {
   "cell_type": "code",
   "execution_count": 17,
   "id": "641e38f8",
   "metadata": {},
   "outputs": [
    {
     "data": {
      "text/plain": [
       "20987400"
      ]
     },
     "execution_count": 17,
     "metadata": {},
     "output_type": "execute_result"
    }
   ],
   "source": [
    "processed_df.size"
   ]
  },
  {
   "cell_type": "code",
   "execution_count": null,
   "id": "3bb7942b",
   "metadata": {},
   "outputs": [],
   "source": []
  },
  {
   "cell_type": "code",
   "execution_count": null,
   "id": "8f101ca5",
   "metadata": {},
   "outputs": [],
   "source": []
  },
  {
   "cell_type": "code",
   "execution_count": null,
   "id": "39e9cf64",
   "metadata": {},
   "outputs": [],
   "source": []
  }
 ],
 "metadata": {
  "kernelspec": {
   "display_name": "Python 3",
   "language": "python",
   "name": "python3"
  },
  "language_info": {
   "codemirror_mode": {
    "name": "ipython",
    "version": 3
   },
   "file_extension": ".py",
   "mimetype": "text/x-python",
   "name": "python",
   "nbconvert_exporter": "python",
   "pygments_lexer": "ipython3",
   "version": "3.8.8"
  }
 },
 "nbformat": 4,
 "nbformat_minor": 5
}
