{
 "cells": [
  {
   "cell_type": "code",
   "execution_count": 1,
   "id": "ed058415",
   "metadata": {},
   "outputs": [],
   "source": [
    "import pandas as pd\n",
    "import re"
   ]
  },
  {
   "cell_type": "code",
   "execution_count": 2,
   "id": "5cb944b0",
   "metadata": {},
   "outputs": [],
   "source": [
    "APPLICATION_BASE_PATH = \"D:/PhD/Model_Building/Stage_4_Building_Vulnerability_Dataset/8_Round_Qark\"\n",
    "unprocessed_csv = \"Scanned_App_Unprocessed_Dataset.csv\"\n",
    "processed_csv = unprocessed_csv.replace(\"Unprocessed\",\"Processed\")"
   ]
  },
  {
   "cell_type": "code",
   "execution_count": 3,
   "id": "3f7b7bfb",
   "metadata": {},
   "outputs": [],
   "source": [
    "def preprocess_comments_and_strings(code_line):\n",
    "    \n",
    "    processed_code_line = code_line\n",
    "\n",
    "    encryption_hashing_pattern = \"AES|aes|SHA-1|sha-1|SHA1|sha1|MD5|md5\"\n",
    "    ip_pattern = \"\\w*([0-9]{1,3})\\.([0-9]{1,3})\\.([0-9]{1,3})\\.([0-9]{1,3})\\w*\"\n",
    "    string_pattern = \"\\\"[\\w|\\s|$|&|+|,|:|;|=|?|@|#|_|/|\\-|\\.|!|`|~|%|\\^|\\*|\\(|\\)|\\'\\\\[|\\]\\{|\\}]*\\\"\"\n",
    "\n",
    "    # Checking for encryption related strings\n",
    "    find_encryption = re.search(encryption_hashing_pattern, processed_code_line)\n",
    "\n",
    "    # Checking for IP related strings\n",
    "    find_ip = re.search(ip_pattern, processed_code_line)\n",
    "\n",
    "    if (find_encryption is None) & (find_ip is None):\n",
    "        # replacing all strings with dummy string\n",
    "        processed_code_line = re.sub(string_pattern, \"\\\"user_str\\\"\", processed_code_line)\n",
    "        \n",
    "    # replacing comments with dummy comment\n",
    "    #comment_pattern = \"//.*|/\\\\*(?s:.*?)\\\\*/|(\\\"(?:(?<!\\\\\\\\)(?:\\\\\\\\\\\\\\\\)*\\\\\\\\\\\"|[^\\r\\n\\\"])*\\\")\"\n",
    "    comment_pattern = \"//.*|/\\\\*(?s:.*?)\\\\*/|/\\\\*(.)*|(.)*\\\\*/\"\n",
    "    processed_code_line = re.sub(comment_pattern, \"//user_comment\",processed_code_line)\n",
    "\n",
    "    return processed_code_line"
   ]
  },
  {
   "cell_type": "code",
   "execution_count": 5,
   "id": "1b54a5b6",
   "metadata": {},
   "outputs": [],
   "source": [
    "unprocessed_dataset_df = pd.read_csv(APPLICATION_BASE_PATH+\"/\"+unprocessed_csv).fillna(\"\")"
   ]
  },
  {
   "cell_type": "code",
   "execution_count": 6,
   "id": "cfb82556",
   "metadata": {},
   "outputs": [
    {
     "data": {
      "text/html": [
       "<div>\n",
       "<style scoped>\n",
       "    .dataframe tbody tr th:only-of-type {\n",
       "        vertical-align: middle;\n",
       "    }\n",
       "\n",
       "    .dataframe tbody tr th {\n",
       "        vertical-align: top;\n",
       "    }\n",
       "\n",
       "    .dataframe thead th {\n",
       "        text-align: right;\n",
       "    }\n",
       "</style>\n",
       "<table border=\"1\" class=\"dataframe\">\n",
       "  <thead>\n",
       "    <tr style=\"text-align: right;\">\n",
       "      <th></th>\n",
       "      <th>Unnamed: 0</th>\n",
       "      <th>app_name</th>\n",
       "      <th>category</th>\n",
       "      <th>severity</th>\n",
       "      <th>qark_name</th>\n",
       "      <th>Code</th>\n",
       "      <th>CWE_ID</th>\n",
       "      <th>CWE_Desc</th>\n",
       "      <th>Vulnerability_status</th>\n",
       "    </tr>\n",
       "  </thead>\n",
       "  <tbody>\n",
       "    <tr>\n",
       "      <th>0</th>\n",
       "      <td>0</td>\n",
       "      <td>yalp-store-fork</td>\n",
       "      <td></td>\n",
       "      <td></td>\n",
       "      <td></td>\n",
       "      <td>package com.github.yeriomin.yalpstore.bugreport;</td>\n",
       "      <td></td>\n",
       "      <td></td>\n",
       "      <td>0</td>\n",
       "    </tr>\n",
       "    <tr>\n",
       "      <th>1</th>\n",
       "      <td>1</td>\n",
       "      <td>yalp-store-fork</td>\n",
       "      <td></td>\n",
       "      <td></td>\n",
       "      <td></td>\n",
       "      <td></td>\n",
       "      <td></td>\n",
       "      <td></td>\n",
       "      <td>0</td>\n",
       "    </tr>\n",
       "    <tr>\n",
       "      <th>2</th>\n",
       "      <td>2</td>\n",
       "      <td>yalp-store-fork</td>\n",
       "      <td></td>\n",
       "      <td></td>\n",
       "      <td></td>\n",
       "      <td>import android.content.Context;</td>\n",
       "      <td></td>\n",
       "      <td></td>\n",
       "      <td>0</td>\n",
       "    </tr>\n",
       "    <tr>\n",
       "      <th>3</th>\n",
       "      <td>3</td>\n",
       "      <td>yalp-store-fork</td>\n",
       "      <td></td>\n",
       "      <td></td>\n",
       "      <td></td>\n",
       "      <td>import android.util.Log;</td>\n",
       "      <td></td>\n",
       "      <td></td>\n",
       "      <td>0</td>\n",
       "    </tr>\n",
       "    <tr>\n",
       "      <th>4</th>\n",
       "      <td>4</td>\n",
       "      <td>yalp-store-fork</td>\n",
       "      <td></td>\n",
       "      <td></td>\n",
       "      <td></td>\n",
       "      <td>import com.github.yeriomin.yalpstore.Util;</td>\n",
       "      <td></td>\n",
       "      <td></td>\n",
       "      <td>0</td>\n",
       "    </tr>\n",
       "  </tbody>\n",
       "</table>\n",
       "</div>"
      ],
      "text/plain": [
       "   Unnamed: 0         app_name category severity qark_name  \\\n",
       "0           0  yalp-store-fork                               \n",
       "1           1  yalp-store-fork                               \n",
       "2           2  yalp-store-fork                               \n",
       "3           3  yalp-store-fork                               \n",
       "4           4  yalp-store-fork                               \n",
       "\n",
       "                                               Code CWE_ID CWE_Desc  \\\n",
       "0  package com.github.yeriomin.yalpstore.bugreport;                   \n",
       "1                                                                     \n",
       "2                   import android.content.Context;                   \n",
       "3                          import android.util.Log;                   \n",
       "4        import com.github.yeriomin.yalpstore.Util;                   \n",
       "\n",
       "   Vulnerability_status  \n",
       "0                     0  \n",
       "1                     0  \n",
       "2                     0  \n",
       "3                     0  \n",
       "4                     0  "
      ]
     },
     "execution_count": 6,
     "metadata": {},
     "output_type": "execute_result"
    }
   ],
   "source": [
    "unprocessed_dataset_df.head()"
   ]
  },
  {
   "cell_type": "code",
   "execution_count": 7,
   "id": "d80bb8b5",
   "metadata": {},
   "outputs": [
    {
     "data": {
      "text/plain": [
       "0          package com.github.yeriomin.yalpstore.bugreport;\n",
       "1                                                          \n",
       "2                           import android.content.Context;\n",
       "3                                  import android.util.Log;\n",
       "4                import com.github.yeriomin.yalpstore.Util;\n",
       "                                ...                        \n",
       "291953                   Log.v(\"hidapi\", var10.toString());\n",
       "291954                  Log.v(\"pythonutil\", sb.toString());\n",
       "291955                   Log.v(\"SDLAudio\", sb5.toString());\n",
       "291956    class PythonService extends org.kivy.android.P...\n",
       "291957                    Log.d(\"hidapi\", var7.toString());\n",
       "Name: Code, Length: 291958, dtype: object"
      ]
     },
     "execution_count": 7,
     "metadata": {},
     "output_type": "execute_result"
    }
   ],
   "source": [
    "unprocessed_dataset_df.Code"
   ]
  },
  {
   "cell_type": "code",
   "execution_count": 9,
   "id": "11ed72d7",
   "metadata": {},
   "outputs": [],
   "source": [
    "comments_and_strings_processed_codes=[]\n",
    "for code in unprocessed_dataset_df.Code:\n",
    "    if(len(code)>150):\n",
    "        processed_code = \"user_str\"\n",
    "    else:\n",
    "        processed_code=preprocess_comments_and_strings(code)   \n",
    "        \n",
    "    comments_and_strings_processed_codes.append(processed_code)"
   ]
  },
  {
   "cell_type": "code",
   "execution_count": 10,
   "id": "1e95b219",
   "metadata": {},
   "outputs": [
    {
     "name": "stdout",
     "output_type": "stream",
     "text": [
      "0          package com.github.yeriomin.yalpstore.bugreport;\n",
      "1                                                          \n",
      "2                           import android.content.Context;\n",
      "3                                  import android.util.Log;\n",
      "4                import com.github.yeriomin.yalpstore.Util;\n",
      "                                ...                        \n",
      "291953                 Log.v(\"user_str\", var10.toString());\n",
      "291954                    Log.v(\"user_str\", sb.toString());\n",
      "291955                   Log.v(\"user_str\", sb5.toString());\n",
      "291956    class PythonService extends org.kivy.android.P...\n",
      "291957                  Log.d(\"user_str\", var7.toString());\n",
      "Length: 291958, dtype: object\n"
     ]
    }
   ],
   "source": [
    "comments_and_strings_processed_codes_series= pd.Series(comments_and_strings_processed_codes)\n",
    "print(comments_and_strings_processed_codes_series)"
   ]
  },
  {
   "cell_type": "code",
   "execution_count": 11,
   "id": "68419843",
   "metadata": {},
   "outputs": [],
   "source": [
    "unprocessed_dataset_df[\"processed_code\"]= comments_and_strings_processed_codes"
   ]
  },
  {
   "cell_type": "code",
   "execution_count": 12,
   "id": "9e3db8f6",
   "metadata": {},
   "outputs": [
    {
     "data": {
      "text/html": [
       "<div>\n",
       "<style scoped>\n",
       "    .dataframe tbody tr th:only-of-type {\n",
       "        vertical-align: middle;\n",
       "    }\n",
       "\n",
       "    .dataframe tbody tr th {\n",
       "        vertical-align: top;\n",
       "    }\n",
       "\n",
       "    .dataframe thead th {\n",
       "        text-align: right;\n",
       "    }\n",
       "</style>\n",
       "<table border=\"1\" class=\"dataframe\">\n",
       "  <thead>\n",
       "    <tr style=\"text-align: right;\">\n",
       "      <th></th>\n",
       "      <th>Unnamed: 0</th>\n",
       "      <th>app_name</th>\n",
       "      <th>category</th>\n",
       "      <th>severity</th>\n",
       "      <th>qark_name</th>\n",
       "      <th>Code</th>\n",
       "      <th>CWE_ID</th>\n",
       "      <th>CWE_Desc</th>\n",
       "      <th>Vulnerability_status</th>\n",
       "      <th>processed_code</th>\n",
       "    </tr>\n",
       "  </thead>\n",
       "  <tbody>\n",
       "    <tr>\n",
       "      <th>0</th>\n",
       "      <td>0</td>\n",
       "      <td>yalp-store-fork</td>\n",
       "      <td></td>\n",
       "      <td></td>\n",
       "      <td></td>\n",
       "      <td>package com.github.yeriomin.yalpstore.bugreport;</td>\n",
       "      <td></td>\n",
       "      <td></td>\n",
       "      <td>0</td>\n",
       "      <td>package com.github.yeriomin.yalpstore.bugreport;</td>\n",
       "    </tr>\n",
       "    <tr>\n",
       "      <th>1</th>\n",
       "      <td>1</td>\n",
       "      <td>yalp-store-fork</td>\n",
       "      <td></td>\n",
       "      <td></td>\n",
       "      <td></td>\n",
       "      <td></td>\n",
       "      <td></td>\n",
       "      <td></td>\n",
       "      <td>0</td>\n",
       "      <td></td>\n",
       "    </tr>\n",
       "    <tr>\n",
       "      <th>2</th>\n",
       "      <td>2</td>\n",
       "      <td>yalp-store-fork</td>\n",
       "      <td></td>\n",
       "      <td></td>\n",
       "      <td></td>\n",
       "      <td>import android.content.Context;</td>\n",
       "      <td></td>\n",
       "      <td></td>\n",
       "      <td>0</td>\n",
       "      <td>import android.content.Context;</td>\n",
       "    </tr>\n",
       "    <tr>\n",
       "      <th>3</th>\n",
       "      <td>3</td>\n",
       "      <td>yalp-store-fork</td>\n",
       "      <td></td>\n",
       "      <td></td>\n",
       "      <td></td>\n",
       "      <td>import android.util.Log;</td>\n",
       "      <td></td>\n",
       "      <td></td>\n",
       "      <td>0</td>\n",
       "      <td>import android.util.Log;</td>\n",
       "    </tr>\n",
       "    <tr>\n",
       "      <th>4</th>\n",
       "      <td>4</td>\n",
       "      <td>yalp-store-fork</td>\n",
       "      <td></td>\n",
       "      <td></td>\n",
       "      <td></td>\n",
       "      <td>import com.github.yeriomin.yalpstore.Util;</td>\n",
       "      <td></td>\n",
       "      <td></td>\n",
       "      <td>0</td>\n",
       "      <td>import com.github.yeriomin.yalpstore.Util;</td>\n",
       "    </tr>\n",
       "  </tbody>\n",
       "</table>\n",
       "</div>"
      ],
      "text/plain": [
       "   Unnamed: 0         app_name category severity qark_name  \\\n",
       "0           0  yalp-store-fork                               \n",
       "1           1  yalp-store-fork                               \n",
       "2           2  yalp-store-fork                               \n",
       "3           3  yalp-store-fork                               \n",
       "4           4  yalp-store-fork                               \n",
       "\n",
       "                                               Code CWE_ID CWE_Desc  \\\n",
       "0  package com.github.yeriomin.yalpstore.bugreport;                   \n",
       "1                                                                     \n",
       "2                   import android.content.Context;                   \n",
       "3                          import android.util.Log;                   \n",
       "4        import com.github.yeriomin.yalpstore.Util;                   \n",
       "\n",
       "   Vulnerability_status                                    processed_code  \n",
       "0                     0  package com.github.yeriomin.yalpstore.bugreport;  \n",
       "1                     0                                                    \n",
       "2                     0                   import android.content.Context;  \n",
       "3                     0                          import android.util.Log;  \n",
       "4                     0        import com.github.yeriomin.yalpstore.Util;  "
      ]
     },
     "execution_count": 12,
     "metadata": {},
     "output_type": "execute_result"
    }
   ],
   "source": [
    "unprocessed_dataset_df.head()"
   ]
  },
  {
   "cell_type": "code",
   "execution_count": 13,
   "id": "a9c99724",
   "metadata": {},
   "outputs": [],
   "source": [
    "#processed_df = unprocessed_dataset_df.drop('Code', axis=1)\n",
    "processed_df = unprocessed_dataset_df"
   ]
  },
  {
   "cell_type": "code",
   "execution_count": 14,
   "id": "135f7105",
   "metadata": {
    "scrolled": true
   },
   "outputs": [
    {
     "data": {
      "text/html": [
       "<div>\n",
       "<style scoped>\n",
       "    .dataframe tbody tr th:only-of-type {\n",
       "        vertical-align: middle;\n",
       "    }\n",
       "\n",
       "    .dataframe tbody tr th {\n",
       "        vertical-align: top;\n",
       "    }\n",
       "\n",
       "    .dataframe thead th {\n",
       "        text-align: right;\n",
       "    }\n",
       "</style>\n",
       "<table border=\"1\" class=\"dataframe\">\n",
       "  <thead>\n",
       "    <tr style=\"text-align: right;\">\n",
       "      <th></th>\n",
       "      <th>Unnamed: 0</th>\n",
       "      <th>app_name</th>\n",
       "      <th>category</th>\n",
       "      <th>severity</th>\n",
       "      <th>qark_name</th>\n",
       "      <th>Code</th>\n",
       "      <th>CWE_ID</th>\n",
       "      <th>CWE_Desc</th>\n",
       "      <th>Vulnerability_status</th>\n",
       "      <th>processed_code</th>\n",
       "    </tr>\n",
       "  </thead>\n",
       "  <tbody>\n",
       "    <tr>\n",
       "      <th>0</th>\n",
       "      <td>0</td>\n",
       "      <td>yalp-store-fork</td>\n",
       "      <td></td>\n",
       "      <td></td>\n",
       "      <td></td>\n",
       "      <td>package com.github.yeriomin.yalpstore.bugreport;</td>\n",
       "      <td></td>\n",
       "      <td></td>\n",
       "      <td>0</td>\n",
       "      <td>package com.github.yeriomin.yalpstore.bugreport;</td>\n",
       "    </tr>\n",
       "    <tr>\n",
       "      <th>1</th>\n",
       "      <td>1</td>\n",
       "      <td>yalp-store-fork</td>\n",
       "      <td></td>\n",
       "      <td></td>\n",
       "      <td></td>\n",
       "      <td></td>\n",
       "      <td></td>\n",
       "      <td></td>\n",
       "      <td>0</td>\n",
       "      <td></td>\n",
       "    </tr>\n",
       "    <tr>\n",
       "      <th>2</th>\n",
       "      <td>2</td>\n",
       "      <td>yalp-store-fork</td>\n",
       "      <td></td>\n",
       "      <td></td>\n",
       "      <td></td>\n",
       "      <td>import android.content.Context;</td>\n",
       "      <td></td>\n",
       "      <td></td>\n",
       "      <td>0</td>\n",
       "      <td>import android.content.Context;</td>\n",
       "    </tr>\n",
       "    <tr>\n",
       "      <th>3</th>\n",
       "      <td>3</td>\n",
       "      <td>yalp-store-fork</td>\n",
       "      <td></td>\n",
       "      <td></td>\n",
       "      <td></td>\n",
       "      <td>import android.util.Log;</td>\n",
       "      <td></td>\n",
       "      <td></td>\n",
       "      <td>0</td>\n",
       "      <td>import android.util.Log;</td>\n",
       "    </tr>\n",
       "    <tr>\n",
       "      <th>4</th>\n",
       "      <td>4</td>\n",
       "      <td>yalp-store-fork</td>\n",
       "      <td></td>\n",
       "      <td></td>\n",
       "      <td></td>\n",
       "      <td>import com.github.yeriomin.yalpstore.Util;</td>\n",
       "      <td></td>\n",
       "      <td></td>\n",
       "      <td>0</td>\n",
       "      <td>import com.github.yeriomin.yalpstore.Util;</td>\n",
       "    </tr>\n",
       "  </tbody>\n",
       "</table>\n",
       "</div>"
      ],
      "text/plain": [
       "   Unnamed: 0         app_name category severity qark_name  \\\n",
       "0           0  yalp-store-fork                               \n",
       "1           1  yalp-store-fork                               \n",
       "2           2  yalp-store-fork                               \n",
       "3           3  yalp-store-fork                               \n",
       "4           4  yalp-store-fork                               \n",
       "\n",
       "                                               Code CWE_ID CWE_Desc  \\\n",
       "0  package com.github.yeriomin.yalpstore.bugreport;                   \n",
       "1                                                                     \n",
       "2                   import android.content.Context;                   \n",
       "3                          import android.util.Log;                   \n",
       "4        import com.github.yeriomin.yalpstore.Util;                   \n",
       "\n",
       "   Vulnerability_status                                    processed_code  \n",
       "0                     0  package com.github.yeriomin.yalpstore.bugreport;  \n",
       "1                     0                                                    \n",
       "2                     0                   import android.content.Context;  \n",
       "3                     0                          import android.util.Log;  \n",
       "4                     0        import com.github.yeriomin.yalpstore.Util;  "
      ]
     },
     "execution_count": 14,
     "metadata": {},
     "output_type": "execute_result"
    }
   ],
   "source": [
    "processed_df.head()"
   ]
  },
  {
   "cell_type": "code",
   "execution_count": 15,
   "id": "709ce2d8",
   "metadata": {},
   "outputs": [
    {
     "name": "stdout",
     "output_type": "stream",
     "text": [
      "2919580 , 2919580\n"
     ]
    }
   ],
   "source": [
    "print(unprocessed_dataset_df.size ,\",\", processed_df.size)"
   ]
  },
  {
   "cell_type": "code",
   "execution_count": 16,
   "id": "68c29f38",
   "metadata": {},
   "outputs": [],
   "source": [
    "processed_df.drop_duplicates(subset=['processed_code', 'CWE_ID'], inplace=True)"
   ]
  },
  {
   "cell_type": "code",
   "execution_count": 17,
   "id": "70dc9158",
   "metadata": {},
   "outputs": [
    {
     "data": {
      "text/plain": [
       "2428860"
      ]
     },
     "execution_count": 17,
     "metadata": {},
     "output_type": "execute_result"
    }
   ],
   "source": [
    "processed_df.size"
   ]
  },
  {
   "cell_type": "code",
   "execution_count": 18,
   "id": "d04d9fb7",
   "metadata": {},
   "outputs": [],
   "source": [
    "processed_df.to_csv(APPLICATION_BASE_PATH+\"/\"+processed_csv, sep=',', encoding='utf-8', index=False)"
   ]
  },
  {
   "cell_type": "code",
   "execution_count": 19,
   "id": "641e38f8",
   "metadata": {},
   "outputs": [
    {
     "data": {
      "text/plain": [
       "2428860"
      ]
     },
     "execution_count": 19,
     "metadata": {},
     "output_type": "execute_result"
    }
   ],
   "source": [
    "processed_df.size"
   ]
  },
  {
   "cell_type": "code",
   "execution_count": null,
   "id": "ddaadffe",
   "metadata": {},
   "outputs": [],
   "source": []
  }
 ],
 "metadata": {
  "kernelspec": {
   "display_name": "Python 3",
   "language": "python",
   "name": "python3"
  }
 },
 "nbformat": 4,
 "nbformat_minor": 5
}
