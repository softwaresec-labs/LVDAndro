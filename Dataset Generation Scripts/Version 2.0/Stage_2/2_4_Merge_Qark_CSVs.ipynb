{
 "cells": [
  {
   "cell_type": "code",
   "execution_count": 53,
   "id": "5d4b437b",
   "metadata": {},
   "outputs": [],
   "source": [
    "import pandas as pd"
   ]
  },
  {
   "cell_type": "code",
   "execution_count": 54,
   "id": "ad2d69ac",
   "metadata": {},
   "outputs": [],
   "source": [
    "df1 = pd.read_csv(\"I:/Qark_CSV_Fixed/R7/Qark_Scanned_App_Details_R7_S1.csv\", names=[\"app_name\",\"category\",\"severity\",\"description\",\"name\",\"line_number\",\"file_object\",\"apk_exploit_dict\"])\n",
    "df2 = pd.read_csv(\"I:/Qark_CSV_Fixed/R7/Qark_Scanned_App_Details_R7_S2.csv\", names=[\"app_name\",\"category\",\"severity\",\"description\",\"name\",\"line_number\",\"file_object\",\"apk_exploit_dict\"])\n",
    "df3 = pd.read_csv(\"I:/Qark_CSV_Fixed/R7/Qark_Scanned_App_Details_R7_S3.csv\", names=[\"app_name\",\"category\",\"severity\",\"description\",\"name\",\"line_number\",\"file_object\",\"apk_exploit_dict\"])"
   ]
  },
  {
   "cell_type": "code",
   "execution_count": 55,
   "id": "e4e9c3b9",
   "metadata": {},
   "outputs": [],
   "source": [
    "df = pd.concat([df1,df2,df3], ignore_index=False, names=[\"app_name\",\"category\",\"severity\",\"description\",\"name\",\"line_number\",\"file_object\",\"apk_exploit_dict\"])"
   ]
  },
  {
   "cell_type": "code",
   "execution_count": 56,
   "id": "2643a684",
   "metadata": {},
   "outputs": [
    {
     "data": {
      "text/plain": [
       "(148042, 8)"
      ]
     },
     "execution_count": 56,
     "metadata": {},
     "output_type": "execute_result"
    }
   ],
   "source": [
    "df.shape"
   ]
  },
  {
   "cell_type": "code",
   "execution_count": 57,
   "id": "fd7ebe0e",
   "metadata": {},
   "outputs": [
    {
     "data": {
      "text/html": [
       "<div>\n",
       "<style scoped>\n",
       "    .dataframe tbody tr th:only-of-type {\n",
       "        vertical-align: middle;\n",
       "    }\n",
       "\n",
       "    .dataframe tbody tr th {\n",
       "        vertical-align: top;\n",
       "    }\n",
       "\n",
       "    .dataframe thead th {\n",
       "        text-align: right;\n",
       "    }\n",
       "</style>\n",
       "<table border=\"1\" class=\"dataframe\">\n",
       "  <thead>\n",
       "    <tr style=\"text-align: right;\">\n",
       "      <th></th>\n",
       "      <th>app_name</th>\n",
       "      <th>category</th>\n",
       "      <th>severity</th>\n",
       "      <th>description</th>\n",
       "      <th>name</th>\n",
       "      <th>line_number</th>\n",
       "      <th>file_object</th>\n",
       "      <th>apk_exploit_dict</th>\n",
       "    </tr>\n",
       "  </thead>\n",
       "  <tbody>\n",
       "    <tr>\n",
       "      <th>0</th>\n",
       "      <td>us-travel-converter</td>\n",
       "      <td>file</td>\n",
       "      <td>WARNING</td>\n",
       "      <td>Logs are detected. This may allow potential le...</td>\n",
       "      <td>Logging found</td>\n",
       "      <td>[309_ 13]</td>\n",
       "      <td>I:\\PhD\\Model_Building\\APKs_and_GitRepos\\7_Roun...</td>\n",
       "      <td>None</td>\n",
       "    </tr>\n",
       "    <tr>\n",
       "      <th>1</th>\n",
       "      <td>us-travel-converter</td>\n",
       "      <td>file</td>\n",
       "      <td>WARNING</td>\n",
       "      <td>Logs are detected. This may allow potential le...</td>\n",
       "      <td>Logging found</td>\n",
       "      <td>[505_ 10]</td>\n",
       "      <td>I:\\PhD\\Model_Building\\APKs_and_GitRepos\\7_Roun...</td>\n",
       "      <td>None</td>\n",
       "    </tr>\n",
       "    <tr>\n",
       "      <th>2</th>\n",
       "      <td>us-travel-converter</td>\n",
       "      <td>file</td>\n",
       "      <td>WARNING</td>\n",
       "      <td>Logs are detected. This may allow potential le...</td>\n",
       "      <td>Logging found</td>\n",
       "      <td>[1429_ 25]</td>\n",
       "      <td>I:\\PhD\\Model_Building\\APKs_and_GitRepos\\7_Roun...</td>\n",
       "      <td>None</td>\n",
       "    </tr>\n",
       "    <tr>\n",
       "      <th>3</th>\n",
       "      <td>us-travel-converter</td>\n",
       "      <td>file</td>\n",
       "      <td>INFO</td>\n",
       "      <td>Application contains hardcoded HTTP url: http:...</td>\n",
       "      <td>Hardcoded HTTP url found</td>\n",
       "      <td>[190_ 0]</td>\n",
       "      <td>I:\\PhD\\Model_Building\\APKs_and_GitRepos\\7_Roun...</td>\n",
       "      <td>None</td>\n",
       "    </tr>\n",
       "    <tr>\n",
       "      <th>4</th>\n",
       "      <td>us-travel-converter</td>\n",
       "      <td>file</td>\n",
       "      <td>WARNING</td>\n",
       "      <td>Logs are detected. This may allow potential le...</td>\n",
       "      <td>Logging found</td>\n",
       "      <td>[6016_ 13]</td>\n",
       "      <td>I:\\PhD\\Model_Building\\APKs_and_GitRepos\\7_Roun...</td>\n",
       "      <td>None</td>\n",
       "    </tr>\n",
       "  </tbody>\n",
       "</table>\n",
       "</div>"
      ],
      "text/plain": [
       "              app_name category severity  \\\n",
       "0  us-travel-converter     file  WARNING   \n",
       "1  us-travel-converter     file  WARNING   \n",
       "2  us-travel-converter     file  WARNING   \n",
       "3  us-travel-converter     file     INFO   \n",
       "4  us-travel-converter     file  WARNING   \n",
       "\n",
       "                                         description  \\\n",
       "0  Logs are detected. This may allow potential le...   \n",
       "1  Logs are detected. This may allow potential le...   \n",
       "2  Logs are detected. This may allow potential le...   \n",
       "3  Application contains hardcoded HTTP url: http:...   \n",
       "4  Logs are detected. This may allow potential le...   \n",
       "\n",
       "                       name line_number  \\\n",
       "0             Logging found   [309_ 13]   \n",
       "1             Logging found   [505_ 10]   \n",
       "2             Logging found  [1429_ 25]   \n",
       "3  Hardcoded HTTP url found    [190_ 0]   \n",
       "4             Logging found  [6016_ 13]   \n",
       "\n",
       "                                         file_object apk_exploit_dict  \n",
       "0  I:\\PhD\\Model_Building\\APKs_and_GitRepos\\7_Roun...             None  \n",
       "1  I:\\PhD\\Model_Building\\APKs_and_GitRepos\\7_Roun...             None  \n",
       "2  I:\\PhD\\Model_Building\\APKs_and_GitRepos\\7_Roun...             None  \n",
       "3  I:\\PhD\\Model_Building\\APKs_and_GitRepos\\7_Roun...             None  \n",
       "4  I:\\PhD\\Model_Building\\APKs_and_GitRepos\\7_Roun...             None  "
      ]
     },
     "execution_count": 57,
     "metadata": {},
     "output_type": "execute_result"
    }
   ],
   "source": [
    "df.head()"
   ]
  },
  {
   "cell_type": "code",
   "execution_count": 58,
   "id": "ed25e31c",
   "metadata": {},
   "outputs": [],
   "source": [
    "df.to_csv(\"D:/PhD/Model_Building/Stage_4_Building_Vulnerability_Dataset/7_Round_Qark/7_Round_App_Qark_Analysis_without_CWE.csv\", \n",
    "                  header=[\"app_name\",\"category\",\"severity\",\"description\",\"name\",\"line_number\",\"file_object\",\"apk_exploit_dict\"], index=False)"
   ]
  },
  {
   "cell_type": "code",
   "execution_count": 59,
   "id": "f10e581d",
   "metadata": {},
   "outputs": [],
   "source": [
    "df_new = pd.read_csv(\"D:/PhD/Model_Building/Stage_4_Building_Vulnerability_Dataset/7_Round_Qark/7_Round_App_Qark_Analysis_without_CWE.csv\")"
   ]
  },
  {
   "cell_type": "code",
   "execution_count": 60,
   "id": "92a1d864",
   "metadata": {},
   "outputs": [
    {
     "data": {
      "text/html": [
       "<div>\n",
       "<style scoped>\n",
       "    .dataframe tbody tr th:only-of-type {\n",
       "        vertical-align: middle;\n",
       "    }\n",
       "\n",
       "    .dataframe tbody tr th {\n",
       "        vertical-align: top;\n",
       "    }\n",
       "\n",
       "    .dataframe thead th {\n",
       "        text-align: right;\n",
       "    }\n",
       "</style>\n",
       "<table border=\"1\" class=\"dataframe\">\n",
       "  <thead>\n",
       "    <tr style=\"text-align: right;\">\n",
       "      <th></th>\n",
       "      <th>app_name</th>\n",
       "      <th>category</th>\n",
       "      <th>severity</th>\n",
       "      <th>description</th>\n",
       "      <th>name</th>\n",
       "      <th>line_number</th>\n",
       "      <th>file_object</th>\n",
       "      <th>apk_exploit_dict</th>\n",
       "    </tr>\n",
       "  </thead>\n",
       "  <tbody>\n",
       "    <tr>\n",
       "      <th>0</th>\n",
       "      <td>us-travel-converter</td>\n",
       "      <td>file</td>\n",
       "      <td>WARNING</td>\n",
       "      <td>Logs are detected. This may allow potential le...</td>\n",
       "      <td>Logging found</td>\n",
       "      <td>[309_ 13]</td>\n",
       "      <td>I:\\PhD\\Model_Building\\APKs_and_GitRepos\\7_Roun...</td>\n",
       "      <td>None</td>\n",
       "    </tr>\n",
       "    <tr>\n",
       "      <th>1</th>\n",
       "      <td>us-travel-converter</td>\n",
       "      <td>file</td>\n",
       "      <td>WARNING</td>\n",
       "      <td>Logs are detected. This may allow potential le...</td>\n",
       "      <td>Logging found</td>\n",
       "      <td>[505_ 10]</td>\n",
       "      <td>I:\\PhD\\Model_Building\\APKs_and_GitRepos\\7_Roun...</td>\n",
       "      <td>None</td>\n",
       "    </tr>\n",
       "    <tr>\n",
       "      <th>2</th>\n",
       "      <td>us-travel-converter</td>\n",
       "      <td>file</td>\n",
       "      <td>WARNING</td>\n",
       "      <td>Logs are detected. This may allow potential le...</td>\n",
       "      <td>Logging found</td>\n",
       "      <td>[1429_ 25]</td>\n",
       "      <td>I:\\PhD\\Model_Building\\APKs_and_GitRepos\\7_Roun...</td>\n",
       "      <td>None</td>\n",
       "    </tr>\n",
       "    <tr>\n",
       "      <th>3</th>\n",
       "      <td>us-travel-converter</td>\n",
       "      <td>file</td>\n",
       "      <td>INFO</td>\n",
       "      <td>Application contains hardcoded HTTP url: http:...</td>\n",
       "      <td>Hardcoded HTTP url found</td>\n",
       "      <td>[190_ 0]</td>\n",
       "      <td>I:\\PhD\\Model_Building\\APKs_and_GitRepos\\7_Roun...</td>\n",
       "      <td>None</td>\n",
       "    </tr>\n",
       "    <tr>\n",
       "      <th>4</th>\n",
       "      <td>us-travel-converter</td>\n",
       "      <td>file</td>\n",
       "      <td>WARNING</td>\n",
       "      <td>Logs are detected. This may allow potential le...</td>\n",
       "      <td>Logging found</td>\n",
       "      <td>[6016_ 13]</td>\n",
       "      <td>I:\\PhD\\Model_Building\\APKs_and_GitRepos\\7_Roun...</td>\n",
       "      <td>None</td>\n",
       "    </tr>\n",
       "  </tbody>\n",
       "</table>\n",
       "</div>"
      ],
      "text/plain": [
       "              app_name category severity  \\\n",
       "0  us-travel-converter     file  WARNING   \n",
       "1  us-travel-converter     file  WARNING   \n",
       "2  us-travel-converter     file  WARNING   \n",
       "3  us-travel-converter     file     INFO   \n",
       "4  us-travel-converter     file  WARNING   \n",
       "\n",
       "                                         description  \\\n",
       "0  Logs are detected. This may allow potential le...   \n",
       "1  Logs are detected. This may allow potential le...   \n",
       "2  Logs are detected. This may allow potential le...   \n",
       "3  Application contains hardcoded HTTP url: http:...   \n",
       "4  Logs are detected. This may allow potential le...   \n",
       "\n",
       "                       name line_number  \\\n",
       "0             Logging found   [309_ 13]   \n",
       "1             Logging found   [505_ 10]   \n",
       "2             Logging found  [1429_ 25]   \n",
       "3  Hardcoded HTTP url found    [190_ 0]   \n",
       "4             Logging found  [6016_ 13]   \n",
       "\n",
       "                                         file_object apk_exploit_dict  \n",
       "0  I:\\PhD\\Model_Building\\APKs_and_GitRepos\\7_Roun...             None  \n",
       "1  I:\\PhD\\Model_Building\\APKs_and_GitRepos\\7_Roun...             None  \n",
       "2  I:\\PhD\\Model_Building\\APKs_and_GitRepos\\7_Roun...             None  \n",
       "3  I:\\PhD\\Model_Building\\APKs_and_GitRepos\\7_Roun...             None  \n",
       "4  I:\\PhD\\Model_Building\\APKs_and_GitRepos\\7_Roun...             None  "
      ]
     },
     "execution_count": 60,
     "metadata": {},
     "output_type": "execute_result"
    }
   ],
   "source": [
    "df_new.head()"
   ]
  },
  {
   "cell_type": "code",
   "execution_count": 61,
   "id": "8923e195",
   "metadata": {},
   "outputs": [
    {
     "data": {
      "text/plain": [
       "(148042, 8)"
      ]
     },
     "execution_count": 61,
     "metadata": {},
     "output_type": "execute_result"
    }
   ],
   "source": [
    "df_new.shape"
   ]
  },
  {
   "cell_type": "code",
   "execution_count": null,
   "id": "9a7d8b84",
   "metadata": {},
   "outputs": [],
   "source": []
  }
 ],
 "metadata": {
  "kernelspec": {
   "display_name": "Python 3",
   "language": "python",
   "name": "python3"
  },
  "language_info": {
   "codemirror_mode": {
    "name": "ipython",
    "version": 3
   },
   "file_extension": ".py",
   "mimetype": "text/x-python",
   "name": "python",
   "nbconvert_exporter": "python",
   "pygments_lexer": "ipython3",
   "version": "3.8.8"
  }
 },
 "nbformat": 4,
 "nbformat_minor": 5
}
