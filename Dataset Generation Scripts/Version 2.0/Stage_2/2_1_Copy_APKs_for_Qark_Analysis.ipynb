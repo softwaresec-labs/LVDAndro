{
 "cells": [
  {
   "cell_type": "code",
   "execution_count": 3,
   "id": "7974734d",
   "metadata": {},
   "outputs": [],
   "source": [
    "import os\n",
    "import shutil"
   ]
  },
  {
   "cell_type": "code",
   "execution_count": 4,
   "id": "771a113c",
   "metadata": {},
   "outputs": [],
   "source": [
    "DOWNLOAD_BASE_PATH = \"I:/PhD/Model_Building/APKs_and_GitRepos/4_Round_Remaining\"\n",
    "COPY_TO_PATH = \"I:/PhD/Model_Building/APKs_and_GitRepos/4_Round_APKs_Only\"\n",
    "\n",
    "files = os.listdir(DOWNLOAD_BASE_PATH)\n",
    "\n",
    "for file in files:\n",
    "    try:\n",
    "        src_path = DOWNLOAD_BASE_PATH+\"/\"+file+\"/\"+file+\".apk\"\n",
    "        os.chdir(COPY_TO_PATH)\n",
    "        os.mkdir(file)\n",
    "        dst_path=COPY_TO_PATH+\"/\"+file+\"/\"+file+\".apk\"\n",
    "        shutil.copy(src_path, dst_path)\n",
    "    except:\n",
    "        continue"
   ]
  },
  {
   "cell_type": "code",
   "execution_count": null,
   "id": "f2a83265",
   "metadata": {},
   "outputs": [],
   "source": []
  }
 ],
 "metadata": {
  "kernelspec": {
   "display_name": "Python 3",
   "language": "python",
   "name": "python3"
  },
  "language_info": {
   "codemirror_mode": {
    "name": "ipython",
    "version": 3
   },
   "file_extension": ".py",
   "mimetype": "text/x-python",
   "name": "python",
   "nbconvert_exporter": "python",
   "pygments_lexer": "ipython3",
   "version": "3.8.8"
  }
 },
 "nbformat": 4,
 "nbformat_minor": 5
}
