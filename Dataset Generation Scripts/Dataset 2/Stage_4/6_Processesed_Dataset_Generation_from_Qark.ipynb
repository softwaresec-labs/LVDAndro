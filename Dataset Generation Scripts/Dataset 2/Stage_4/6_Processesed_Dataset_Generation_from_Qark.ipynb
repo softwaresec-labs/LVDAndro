{
 "cells": [
  {
   "cell_type": "code",
   "execution_count": 1,
   "id": "ed058415",
   "metadata": {},
   "outputs": [],
   "source": [
    "import pandas as pd\n",
    "import re"
   ]
  },
  {
   "cell_type": "code",
   "execution_count": 2,
   "id": "5cb944b0",
   "metadata": {},
   "outputs": [],
   "source": [
    "APPLICATION_BASE_PATH = \"I:/PhD/Model_Building/Stage_4_Building_Vulnerability_Dataset/7_Round_Qark\"\n",
    "unprocessed_csv = \"Scanned_Files_Unprocessed_Dataset.csv\"\n",
    "processed_csv = unprocessed_csv.replace(\"Unprocessed\",\"Processed\")"
   ]
  },
  {
   "cell_type": "code",
   "execution_count": 3,
   "id": "3f7b7bfb",
   "metadata": {},
   "outputs": [],
   "source": [
    "def preprocess_comments_and_strings(code_line):\n",
    "    \n",
    "    processed_code_line = code_line\n",
    "\n",
    "    encryption_hashing_pattern = \"AES|aes|SHA-1|sha-1|SHA1|sha1|MD5|md5\"\n",
    "    ip_pattern = \"\\w*([0-9]{1,3})\\.([0-9]{1,3})\\.([0-9]{1,3})\\.([0-9]{1,3})\\w*\"\n",
    "    string_pattern = \"\\\"[\\w|\\s|$|&|+|,|:|;|=|?|@|#|_|/|\\-|\\.|!|`|~|%|\\^|\\*|\\(|\\)|\\'\\\\[|\\]\\{|\\}]*\\\"\"\n",
    "\n",
    "    # Checking for encryption related strings\n",
    "    find_encryption = re.search(encryption_hashing_pattern, processed_code_line)\n",
    "\n",
    "    # Checking for IP related strings\n",
    "    find_ip = re.search(ip_pattern, processed_code_line)\n",
    "\n",
    "    if (find_encryption is None) & (find_ip is None):\n",
    "        # replacing all strings with dummy string\n",
    "        processed_code_line = re.sub(string_pattern, \"\\\"user_str\\\"\", processed_code_line)\n",
    "        \n",
    "    # replacing comments with dummy comment\n",
    "    #comment_pattern = \"//.*|/\\\\*(?s:.*?)\\\\*/|(\\\"(?:(?<!\\\\\\\\)(?:\\\\\\\\\\\\\\\\)*\\\\\\\\\\\"|[^\\r\\n\\\"])*\\\")\"\n",
    "    comment_pattern = \"//.*|/\\\\*(?s:.*?)\\\\*/|/\\\\*(.)*|(.)*\\\\*/\"\n",
    "    processed_code_line = re.sub(comment_pattern, \"//user_comment\",processed_code_line)\n",
    "\n",
    "    return processed_code_line"
   ]
  },
  {
   "cell_type": "code",
   "execution_count": 4,
   "id": "1b54a5b6",
   "metadata": {},
   "outputs": [],
   "source": [
    "unprocessed_dataset_df = pd.read_csv(APPLICATION_BASE_PATH+\"/\"+unprocessed_csv).fillna(\"\")"
   ]
  },
  {
   "cell_type": "code",
   "execution_count": 5,
   "id": "cfb82556",
   "metadata": {},
   "outputs": [
    {
     "data": {
      "text/html": [
       "<div>\n",
       "<style scoped>\n",
       "    .dataframe tbody tr th:only-of-type {\n",
       "        vertical-align: middle;\n",
       "    }\n",
       "\n",
       "    .dataframe tbody tr th {\n",
       "        vertical-align: top;\n",
       "    }\n",
       "\n",
       "    .dataframe thead th {\n",
       "        text-align: right;\n",
       "    }\n",
       "</style>\n",
       "<table border=\"1\" class=\"dataframe\">\n",
       "  <thead>\n",
       "    <tr style=\"text-align: right;\">\n",
       "      <th></th>\n",
       "      <th>Unnamed: 0</th>\n",
       "      <th>app_name</th>\n",
       "      <th>category</th>\n",
       "      <th>severity</th>\n",
       "      <th>qark_name</th>\n",
       "      <th>Code</th>\n",
       "      <th>CWE_ID</th>\n",
       "      <th>CWE_Desc</th>\n",
       "      <th>Vulnerability_status</th>\n",
       "    </tr>\n",
       "  </thead>\n",
       "  <tbody>\n",
       "    <tr>\n",
       "      <th>0</th>\n",
       "      <td>0</td>\n",
       "      <td>us-travel-converter</td>\n",
       "      <td></td>\n",
       "      <td></td>\n",
       "      <td></td>\n",
       "      <td>/*</td>\n",
       "      <td></td>\n",
       "      <td></td>\n",
       "      <td>0</td>\n",
       "    </tr>\n",
       "    <tr>\n",
       "      <th>1</th>\n",
       "      <td>1</td>\n",
       "      <td>us-travel-converter</td>\n",
       "      <td></td>\n",
       "      <td></td>\n",
       "      <td></td>\n",
       "      <td>*      GNU GENERAL PUBLIC LICENSE Version 3, 2...</td>\n",
       "      <td></td>\n",
       "      <td></td>\n",
       "      <td>0</td>\n",
       "    </tr>\n",
       "    <tr>\n",
       "      <th>2</th>\n",
       "      <td>2</td>\n",
       "      <td>us-travel-converter</td>\n",
       "      <td></td>\n",
       "      <td></td>\n",
       "      <td></td>\n",
       "      <td>*</td>\n",
       "      <td></td>\n",
       "      <td></td>\n",
       "      <td>0</td>\n",
       "    </tr>\n",
       "    <tr>\n",
       "      <th>3</th>\n",
       "      <td>3</td>\n",
       "      <td>us-travel-converter</td>\n",
       "      <td></td>\n",
       "      <td></td>\n",
       "      <td></td>\n",
       "      <td>*         This program converts some imperial ...</td>\n",
       "      <td></td>\n",
       "      <td></td>\n",
       "      <td>0</td>\n",
       "    </tr>\n",
       "    <tr>\n",
       "      <th>4</th>\n",
       "      <td>4</td>\n",
       "      <td>us-travel-converter</td>\n",
       "      <td></td>\n",
       "      <td></td>\n",
       "      <td></td>\n",
       "      <td>*         Copyright (C) &lt;2019&gt;  &lt;Github: Omikr...</td>\n",
       "      <td></td>\n",
       "      <td></td>\n",
       "      <td>0</td>\n",
       "    </tr>\n",
       "  </tbody>\n",
       "</table>\n",
       "</div>"
      ],
      "text/plain": [
       "   Unnamed: 0             app_name category severity qark_name  \\\n",
       "0           0  us-travel-converter                               \n",
       "1           1  us-travel-converter                               \n",
       "2           2  us-travel-converter                               \n",
       "3           3  us-travel-converter                               \n",
       "4           4  us-travel-converter                               \n",
       "\n",
       "                                                Code CWE_ID CWE_Desc  \\\n",
       "0                                                 /*                   \n",
       "1  *      GNU GENERAL PUBLIC LICENSE Version 3, 2...                   \n",
       "2                                                  *                   \n",
       "3  *         This program converts some imperial ...                   \n",
       "4  *         Copyright (C) <2019>  <Github: Omikr...                   \n",
       "\n",
       "   Vulnerability_status  \n",
       "0                     0  \n",
       "1                     0  \n",
       "2                     0  \n",
       "3                     0  \n",
       "4                     0  "
      ]
     },
     "execution_count": 5,
     "metadata": {},
     "output_type": "execute_result"
    }
   ],
   "source": [
    "unprocessed_dataset_df.head()"
   ]
  },
  {
   "cell_type": "code",
   "execution_count": 6,
   "id": "d80bb8b5",
   "metadata": {},
   "outputs": [
    {
     "data": {
      "text/plain": [
       "0                                                        /*\n",
       "1         *      GNU GENERAL PUBLIC LICENSE Version 3, 2...\n",
       "2                                                         *\n",
       "3         *         This program converts some imperial ...\n",
       "4         *         Copyright (C) <2019>  <Github: Omikr...\n",
       "                                ...                        \n",
       "118917    public static ArrayList<WeatherStation> fromJs...\n",
       "118918    ArrayList<WeatherStation> weatherStations = ne...\n",
       "118919     for (int i = 0; i < jsonObjects.length(); i++) {\n",
       "118920    weatherStations.add(new WeatherStation(jsonObj...\n",
       "118921                              return weatherStations;\n",
       "Name: Code, Length: 118922, dtype: object"
      ]
     },
     "execution_count": 6,
     "metadata": {},
     "output_type": "execute_result"
    }
   ],
   "source": [
    "unprocessed_dataset_df.Code"
   ]
  },
  {
   "cell_type": "code",
   "execution_count": 7,
   "id": "11ed72d7",
   "metadata": {},
   "outputs": [],
   "source": [
    "comments_and_strings_processed_codes=[]\n",
    "for code in unprocessed_dataset_df.Code:\n",
    "    if(len(code)>150):\n",
    "        processed_code = \"user_str\"\n",
    "    else:\n",
    "        processed_code=preprocess_comments_and_strings(code)   \n",
    "        \n",
    "    comments_and_strings_processed_codes.append(processed_code)"
   ]
  },
  {
   "cell_type": "code",
   "execution_count": 8,
   "id": "1e95b219",
   "metadata": {},
   "outputs": [
    {
     "name": "stdout",
     "output_type": "stream",
     "text": [
      "0                                            //user_comment\n",
      "1         *      GNU GENERAL PUBLIC LICENSE Version 3, 2...\n",
      "2                                                         *\n",
      "3         *         This program converts some imperial ...\n",
      "4         *         Copyright (C) <2019>  <Github: Omikr...\n",
      "                                ...                        \n",
      "118917    public static ArrayList<WeatherStation> fromJs...\n",
      "118918    ArrayList<WeatherStation> weatherStations = ne...\n",
      "118919     for (int i = 0; i < jsonObjects.length(); i++) {\n",
      "118920    weatherStations.add(new WeatherStation(jsonObj...\n",
      "118921                              return weatherStations;\n",
      "Length: 118922, dtype: object\n"
     ]
    }
   ],
   "source": [
    "comments_and_strings_processed_codes_series= pd.Series(comments_and_strings_processed_codes)\n",
    "print(comments_and_strings_processed_codes_series)"
   ]
  },
  {
   "cell_type": "code",
   "execution_count": 9,
   "id": "68419843",
   "metadata": {},
   "outputs": [],
   "source": [
    "unprocessed_dataset_df[\"processed_code\"]= comments_and_strings_processed_codes"
   ]
  },
  {
   "cell_type": "code",
   "execution_count": 10,
   "id": "9e3db8f6",
   "metadata": {},
   "outputs": [
    {
     "data": {
      "text/html": [
       "<div>\n",
       "<style scoped>\n",
       "    .dataframe tbody tr th:only-of-type {\n",
       "        vertical-align: middle;\n",
       "    }\n",
       "\n",
       "    .dataframe tbody tr th {\n",
       "        vertical-align: top;\n",
       "    }\n",
       "\n",
       "    .dataframe thead th {\n",
       "        text-align: right;\n",
       "    }\n",
       "</style>\n",
       "<table border=\"1\" class=\"dataframe\">\n",
       "  <thead>\n",
       "    <tr style=\"text-align: right;\">\n",
       "      <th></th>\n",
       "      <th>Unnamed: 0</th>\n",
       "      <th>app_name</th>\n",
       "      <th>category</th>\n",
       "      <th>severity</th>\n",
       "      <th>qark_name</th>\n",
       "      <th>Code</th>\n",
       "      <th>CWE_ID</th>\n",
       "      <th>CWE_Desc</th>\n",
       "      <th>Vulnerability_status</th>\n",
       "      <th>processed_code</th>\n",
       "    </tr>\n",
       "  </thead>\n",
       "  <tbody>\n",
       "    <tr>\n",
       "      <th>0</th>\n",
       "      <td>0</td>\n",
       "      <td>us-travel-converter</td>\n",
       "      <td></td>\n",
       "      <td></td>\n",
       "      <td></td>\n",
       "      <td>/*</td>\n",
       "      <td></td>\n",
       "      <td></td>\n",
       "      <td>0</td>\n",
       "      <td>//user_comment</td>\n",
       "    </tr>\n",
       "    <tr>\n",
       "      <th>1</th>\n",
       "      <td>1</td>\n",
       "      <td>us-travel-converter</td>\n",
       "      <td></td>\n",
       "      <td></td>\n",
       "      <td></td>\n",
       "      <td>*      GNU GENERAL PUBLIC LICENSE Version 3, 2...</td>\n",
       "      <td></td>\n",
       "      <td></td>\n",
       "      <td>0</td>\n",
       "      <td>*      GNU GENERAL PUBLIC LICENSE Version 3, 2...</td>\n",
       "    </tr>\n",
       "    <tr>\n",
       "      <th>2</th>\n",
       "      <td>2</td>\n",
       "      <td>us-travel-converter</td>\n",
       "      <td></td>\n",
       "      <td></td>\n",
       "      <td></td>\n",
       "      <td>*</td>\n",
       "      <td></td>\n",
       "      <td></td>\n",
       "      <td>0</td>\n",
       "      <td>*</td>\n",
       "    </tr>\n",
       "    <tr>\n",
       "      <th>3</th>\n",
       "      <td>3</td>\n",
       "      <td>us-travel-converter</td>\n",
       "      <td></td>\n",
       "      <td></td>\n",
       "      <td></td>\n",
       "      <td>*         This program converts some imperial ...</td>\n",
       "      <td></td>\n",
       "      <td></td>\n",
       "      <td>0</td>\n",
       "      <td>*         This program converts some imperial ...</td>\n",
       "    </tr>\n",
       "    <tr>\n",
       "      <th>4</th>\n",
       "      <td>4</td>\n",
       "      <td>us-travel-converter</td>\n",
       "      <td></td>\n",
       "      <td></td>\n",
       "      <td></td>\n",
       "      <td>*         Copyright (C) &lt;2019&gt;  &lt;Github: Omikr...</td>\n",
       "      <td></td>\n",
       "      <td></td>\n",
       "      <td>0</td>\n",
       "      <td>*         Copyright (C) &lt;2019&gt;  &lt;Github: Omikr...</td>\n",
       "    </tr>\n",
       "  </tbody>\n",
       "</table>\n",
       "</div>"
      ],
      "text/plain": [
       "   Unnamed: 0             app_name category severity qark_name  \\\n",
       "0           0  us-travel-converter                               \n",
       "1           1  us-travel-converter                               \n",
       "2           2  us-travel-converter                               \n",
       "3           3  us-travel-converter                               \n",
       "4           4  us-travel-converter                               \n",
       "\n",
       "                                                Code CWE_ID CWE_Desc  \\\n",
       "0                                                 /*                   \n",
       "1  *      GNU GENERAL PUBLIC LICENSE Version 3, 2...                   \n",
       "2                                                  *                   \n",
       "3  *         This program converts some imperial ...                   \n",
       "4  *         Copyright (C) <2019>  <Github: Omikr...                   \n",
       "\n",
       "   Vulnerability_status                                     processed_code  \n",
       "0                     0                                     //user_comment  \n",
       "1                     0  *      GNU GENERAL PUBLIC LICENSE Version 3, 2...  \n",
       "2                     0                                                  *  \n",
       "3                     0  *         This program converts some imperial ...  \n",
       "4                     0  *         Copyright (C) <2019>  <Github: Omikr...  "
      ]
     },
     "execution_count": 10,
     "metadata": {},
     "output_type": "execute_result"
    }
   ],
   "source": [
    "unprocessed_dataset_df.head()"
   ]
  },
  {
   "cell_type": "code",
   "execution_count": 11,
   "id": "a9c99724",
   "metadata": {},
   "outputs": [],
   "source": [
    "#processed_df = unprocessed_dataset_df.drop('Code', axis=1)\n",
    "processed_df = unprocessed_dataset_df"
   ]
  },
  {
   "cell_type": "code",
   "execution_count": 12,
   "id": "135f7105",
   "metadata": {
    "scrolled": true
   },
   "outputs": [
    {
     "data": {
      "text/html": [
       "<div>\n",
       "<style scoped>\n",
       "    .dataframe tbody tr th:only-of-type {\n",
       "        vertical-align: middle;\n",
       "    }\n",
       "\n",
       "    .dataframe tbody tr th {\n",
       "        vertical-align: top;\n",
       "    }\n",
       "\n",
       "    .dataframe thead th {\n",
       "        text-align: right;\n",
       "    }\n",
       "</style>\n",
       "<table border=\"1\" class=\"dataframe\">\n",
       "  <thead>\n",
       "    <tr style=\"text-align: right;\">\n",
       "      <th></th>\n",
       "      <th>Unnamed: 0</th>\n",
       "      <th>app_name</th>\n",
       "      <th>category</th>\n",
       "      <th>severity</th>\n",
       "      <th>qark_name</th>\n",
       "      <th>Code</th>\n",
       "      <th>CWE_ID</th>\n",
       "      <th>CWE_Desc</th>\n",
       "      <th>Vulnerability_status</th>\n",
       "      <th>processed_code</th>\n",
       "    </tr>\n",
       "  </thead>\n",
       "  <tbody>\n",
       "    <tr>\n",
       "      <th>0</th>\n",
       "      <td>0</td>\n",
       "      <td>us-travel-converter</td>\n",
       "      <td></td>\n",
       "      <td></td>\n",
       "      <td></td>\n",
       "      <td>/*</td>\n",
       "      <td></td>\n",
       "      <td></td>\n",
       "      <td>0</td>\n",
       "      <td>//user_comment</td>\n",
       "    </tr>\n",
       "    <tr>\n",
       "      <th>1</th>\n",
       "      <td>1</td>\n",
       "      <td>us-travel-converter</td>\n",
       "      <td></td>\n",
       "      <td></td>\n",
       "      <td></td>\n",
       "      <td>*      GNU GENERAL PUBLIC LICENSE Version 3, 2...</td>\n",
       "      <td></td>\n",
       "      <td></td>\n",
       "      <td>0</td>\n",
       "      <td>*      GNU GENERAL PUBLIC LICENSE Version 3, 2...</td>\n",
       "    </tr>\n",
       "    <tr>\n",
       "      <th>2</th>\n",
       "      <td>2</td>\n",
       "      <td>us-travel-converter</td>\n",
       "      <td></td>\n",
       "      <td></td>\n",
       "      <td></td>\n",
       "      <td>*</td>\n",
       "      <td></td>\n",
       "      <td></td>\n",
       "      <td>0</td>\n",
       "      <td>*</td>\n",
       "    </tr>\n",
       "    <tr>\n",
       "      <th>3</th>\n",
       "      <td>3</td>\n",
       "      <td>us-travel-converter</td>\n",
       "      <td></td>\n",
       "      <td></td>\n",
       "      <td></td>\n",
       "      <td>*         This program converts some imperial ...</td>\n",
       "      <td></td>\n",
       "      <td></td>\n",
       "      <td>0</td>\n",
       "      <td>*         This program converts some imperial ...</td>\n",
       "    </tr>\n",
       "    <tr>\n",
       "      <th>4</th>\n",
       "      <td>4</td>\n",
       "      <td>us-travel-converter</td>\n",
       "      <td></td>\n",
       "      <td></td>\n",
       "      <td></td>\n",
       "      <td>*         Copyright (C) &lt;2019&gt;  &lt;Github: Omikr...</td>\n",
       "      <td></td>\n",
       "      <td></td>\n",
       "      <td>0</td>\n",
       "      <td>*         Copyright (C) &lt;2019&gt;  &lt;Github: Omikr...</td>\n",
       "    </tr>\n",
       "  </tbody>\n",
       "</table>\n",
       "</div>"
      ],
      "text/plain": [
       "   Unnamed: 0             app_name category severity qark_name  \\\n",
       "0           0  us-travel-converter                               \n",
       "1           1  us-travel-converter                               \n",
       "2           2  us-travel-converter                               \n",
       "3           3  us-travel-converter                               \n",
       "4           4  us-travel-converter                               \n",
       "\n",
       "                                                Code CWE_ID CWE_Desc  \\\n",
       "0                                                 /*                   \n",
       "1  *      GNU GENERAL PUBLIC LICENSE Version 3, 2...                   \n",
       "2                                                  *                   \n",
       "3  *         This program converts some imperial ...                   \n",
       "4  *         Copyright (C) <2019>  <Github: Omikr...                   \n",
       "\n",
       "   Vulnerability_status                                     processed_code  \n",
       "0                     0                                     //user_comment  \n",
       "1                     0  *      GNU GENERAL PUBLIC LICENSE Version 3, 2...  \n",
       "2                     0                                                  *  \n",
       "3                     0  *         This program converts some imperial ...  \n",
       "4                     0  *         Copyright (C) <2019>  <Github: Omikr...  "
      ]
     },
     "execution_count": 12,
     "metadata": {},
     "output_type": "execute_result"
    }
   ],
   "source": [
    "processed_df.head()"
   ]
  },
  {
   "cell_type": "code",
   "execution_count": 13,
   "id": "709ce2d8",
   "metadata": {},
   "outputs": [
    {
     "name": "stdout",
     "output_type": "stream",
     "text": [
      "1189220 , 1189220\n"
     ]
    }
   ],
   "source": [
    "print(unprocessed_dataset_df.size ,\",\", processed_df.size)"
   ]
  },
  {
   "cell_type": "code",
   "execution_count": 14,
   "id": "68c29f38",
   "metadata": {},
   "outputs": [],
   "source": [
    "processed_df.drop_duplicates(subset=['processed_code', 'CWE_ID'], inplace=True)"
   ]
  },
  {
   "cell_type": "code",
   "execution_count": 15,
   "id": "70dc9158",
   "metadata": {},
   "outputs": [
    {
     "data": {
      "text/plain": [
       "1037230"
      ]
     },
     "execution_count": 15,
     "metadata": {},
     "output_type": "execute_result"
    }
   ],
   "source": [
    "processed_df.size"
   ]
  },
  {
   "cell_type": "code",
   "execution_count": 16,
   "id": "d04d9fb7",
   "metadata": {},
   "outputs": [],
   "source": [
    "processed_df.to_csv(APPLICATION_BASE_PATH+\"/\"+processed_csv, sep=',', encoding='utf-8', index=False)"
   ]
  },
  {
   "cell_type": "code",
   "execution_count": 17,
   "id": "641e38f8",
   "metadata": {},
   "outputs": [
    {
     "data": {
      "text/plain": [
       "1037230"
      ]
     },
     "execution_count": 17,
     "metadata": {},
     "output_type": "execute_result"
    }
   ],
   "source": [
    "processed_df.size"
   ]
  },
  {
   "cell_type": "code",
   "execution_count": null,
   "id": "ddaadffe",
   "metadata": {},
   "outputs": [],
   "source": []
  },
  {
   "cell_type": "code",
   "execution_count": null,
   "id": "3873314e",
   "metadata": {},
   "outputs": [],
   "source": []
  }
 ],
 "metadata": {
  "kernelspec": {
   "display_name": "Python 3",
   "language": "python",
   "name": "python3"
  },
  "language_info": {
   "codemirror_mode": {
    "name": "ipython",
    "version": 3
   },
   "file_extension": ".py",
   "mimetype": "text/x-python",
   "name": "python",
   "nbconvert_exporter": "python",
   "pygments_lexer": "ipython3",
   "version": "3.8.8"
  }
 },
 "nbformat": 4,
 "nbformat_minor": 5
}
