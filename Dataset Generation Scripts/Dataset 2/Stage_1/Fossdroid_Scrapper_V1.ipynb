{
 "cells": [
  {
   "cell_type": "code",
   "execution_count": 1,
   "id": "94edb049",
   "metadata": {},
   "outputs": [],
   "source": [
    "import requests\n",
    "from bs4 import BeautifulSoup\n",
    "import subprocess"
   ]
  },
  {
   "cell_type": "code",
   "execution_count": 2,
   "id": "53eb1075",
   "metadata": {},
   "outputs": [],
   "source": [
    "def get_menu_links():\n",
    "    url_to_call = \"https://fossdroid.com/\"\n",
    "\n",
    "    response = requests.get(url_to_call, headers={'User-Agent': 'Mozilla/5.0'})\n",
    "    response_code = response.status_code\n",
    "\n",
    "    if response_code != 200:\n",
    "        print(\"Some Error\")\n",
    "        return\n",
    "\n",
    "    html_content = response.content\n",
    "    dom = BeautifulSoup(html_content, 'html.parser')\n",
    "    all_menu_content = dom.select(\"a.mdl-navigation__link\")\n",
    "\n",
    "    menu_links = []\n",
    "\n",
    "    for each_menu_content in all_menu_content:\n",
    "        href_link = each_menu_content.attrs[\"href\"]\n",
    "\n",
    "        next_link = url_to_call+href_link[1:]+\"whats_new.html\"\n",
    "\n",
    "        menu_links.append(next_link)\n",
    "\n",
    "    return menu_links"
   ]
  },
  {
   "cell_type": "code",
   "execution_count": 3,
   "id": "89bc07d0",
   "metadata": {},
   "outputs": [],
   "source": [
    "def get_view_app_links(all_menu_links):\n",
    "    page_links = []\n",
    "    for each_menu_link in all_menu_links:\n",
    "        response = requests.get(each_menu_link, headers={'User-Agent': 'Mozilla/5.0'})\n",
    "        response_code = response.status_code\n",
    "\n",
    "        if response_code != 200:\n",
    "            print(\"Some Error\")\n",
    "            return\n",
    "\n",
    "        html_content = response.content\n",
    "        dom = BeautifulSoup(html_content, 'html.parser')\n",
    "        all_view_app_content = dom.select(\"div.mdl-card__title h5\")\n",
    "\n",
    "        for each_view_app_content in all_view_app_content:\n",
    "\n",
    "            href_link = each_view_app_content.a.attrs[\"href\"]\n",
    "            page_link = \"https://fossdroid.com\" + href_link\n",
    "\n",
    "            page_links.append(page_link)\n",
    "\n",
    "    return page_links"
   ]
  },
  {
   "cell_type": "code",
   "execution_count": 4,
   "id": "b1bea91f",
   "metadata": {},
   "outputs": [],
   "source": [
    "def get_github_links(all_page_link):\n",
    "    github_links = []\n",
    "    for each_page_link in all_page_link:\n",
    "        response = requests.get(each_page_link, headers={'User-Agent': 'Mozilla/5.0'})\n",
    "        response_code = response.status_code\n",
    "\n",
    "        if response_code != 200:\n",
    "            print(\"Some Error\")\n",
    "            return\n",
    "\n",
    "        html_content = response.content\n",
    "        dom = BeautifulSoup(html_content, 'html.parser')\n",
    "        all_page_content = dom.select(\"#fd-source-app\")\n",
    "\n",
    "        for each_page_content in all_page_content:\n",
    "            href_link = each_page_content.attrs[\"href\"]\n",
    "\n",
    "            github_links.append(href_link)\n",
    "\n",
    "    return github_links"
   ]
  },
  {
   "cell_type": "code",
   "execution_count": 5,
   "id": "2b722867",
   "metadata": {},
   "outputs": [],
   "source": [
    "def get_apk_links(all_page_link):\n",
    "    apk_links = []\n",
    "    for each_page_link in all_page_link:\n",
    "        response = requests.get(each_page_link, headers={'User-Agent': 'Mozilla/5.0'})\n",
    "        response_code = response.status_code\n",
    "        if response_code != 200:\n",
    "            print(\"Some Error\")\n",
    "            return\n",
    "\n",
    "        html_content = response.content\n",
    "        dom = BeautifulSoup(html_content, 'html.parser')\n",
    "        all_page_content = dom.select(\"#fd-download-app\")\n",
    "\n",
    "        for each_page_content in all_page_content:\n",
    "            href_link = each_page_content.attrs[\"href\"]\n",
    "            apk_links.append(\"https://fossdroid.com\"+href_link)\n",
    "\n",
    "    return apk_links"
   ]
  },
  {
   "cell_type": "code",
   "execution_count": 6,
   "id": "26e560df",
   "metadata": {},
   "outputs": [],
   "source": [
    "def clone_github_repos(all_github_repo_links):\n",
    "    for each_git_hub_link in all_github_repo_links:\n",
    "        subprocess.call(\"git clone \"+each_git_hub_link+\".git\")"
   ]
  },
  {
   "cell_type": "code",
   "execution_count": 7,
   "id": "db7cd0d9",
   "metadata": {},
   "outputs": [],
   "source": [
    "def download_apk(all_apk_links_list):\n",
    "    for each_apk_link in all_apk_links_list:\n",
    "        r = requests.get(each_apk_link, allow_redirects=True)\n",
    "        filename = each_apk_link[24:]\n",
    "        print(filename)\n",
    "        open(filename, 'wb').write(r.content)"
   ]
  },
  {
   "cell_type": "code",
   "execution_count": 8,
   "id": "7a5fd5bf",
   "metadata": {},
   "outputs": [],
   "source": [
    "def main():\n",
    "    page_no = 2\n",
    "    #visiting_links_to = 140\n",
    "    visiting_links_to = 10\n",
    "    #visiting_links_from = visiting_links_to-40\n",
    "    visiting_links_from = visiting_links_to-10\n",
    "    print(\"Started Scraping\")\n",
    "\n",
    "    print(\"****************Printing All Menu Links**********\")\n",
    "    all_menu_links = get_menu_links()\n",
    "    print(all_menu_links)\n",
    "\n",
    "    print(\"****************Printing All Links**********\")\n",
    "    all_links = get_view_app_links(all_menu_links[page_no-1:page_no])\n",
    "    print(all_links)\n",
    "\n",
    "    print(\"****************Printing All APK Links**********\")\n",
    "#    all_apk_links = get_apk_links(all_links[visiting_links_from:visiting_links_to])\n",
    "    all_apk_links = get_apk_links(all_links)\n",
    "    print(\"****************Downloading APKs**********\")\n",
    "    download_apk(all_apk_links)\n",
    "\n",
    "    print(\"****************Printing All GitHub Links**********\")\n",
    "#    all_github_links = get_github_links(all_links[visiting_links_from:visiting_links_to])\n",
    "    all_github_links = get_github_links(all_links)\n",
    "    print(all_github_links)\n",
    "    print(\"****************Cloning GitHub Repositories******************\")\n",
    "    clone_github_repos(all_github_links)"
   ]
  },
  {
   "cell_type": "code",
   "execution_count": 9,
   "id": "a5f55843",
   "metadata": {},
   "outputs": [
    {
     "name": "stdout",
     "output_type": "stream",
     "text": [
      "Started Scraping\n",
      "****************Printing All Menu Links**********\n",
      "['https://fossdroid.com/c/system/whats_new.html', 'https://fossdroid.com/c/internet/whats_new.html', 'https://fossdroid.com/c/games/whats_new.html', 'https://fossdroid.com/c/multimedia/whats_new.html', 'https://fossdroid.com/c/science-education/whats_new.html', 'https://fossdroid.com/c/connectivity/whats_new.html', 'https://fossdroid.com/c/writing/whats_new.html', 'https://fossdroid.com/c/navigation/whats_new.html', 'https://fossdroid.com/c/time/whats_new.html', 'https://fossdroid.com/c/reading/whats_new.html', 'https://fossdroid.com/c/theming/whats_new.html', 'https://fossdroid.com/c/sports-health/whats_new.html', 'https://fossdroid.com/c/development/whats_new.html', 'https://fossdroid.com/c/security/whats_new.html', 'https://fossdroid.com/c/money/whats_new.html', 'https://fossdroid.com/c/phone-sms/whats_new.html', 'https://fossdroid.com/c/graphics/whats_new.html']\n",
      "****************Printing All Links**********\n",
      "['https://fossdroid.com/a/matsuri.html', 'https://fossdroid.com/a/guo-zao-ke.html', 'https://fossdroid.com/a/v2ex.html', 'https://fossdroid.com/a/url-checker.html', 'https://fossdroid.com/a/danxi.html', 'https://fossdroid.com/a/moegirl+.html', 'https://fossdroid.com/a/hysteria-plugin-sagernet.html', 'https://fossdroid.com/a/jerboa-for-lemmy.html', 'https://fossdroid.com/a/unalix.html', 'https://fossdroid.com/a/recover-voip-settings-from-h300s.html', 'https://fossdroid.com/a/forkgram.html', 'https://fossdroid.com/a/based-cooking.html', 'https://fossdroid.com/a/xvii-messenger-for-vk.html', 'https://fossdroid.com/a/dicio.html', 'https://fossdroid.com/a/toadua.html', 'https://fossdroid.com/a/average-data-usage-widget.html', 'https://fossdroid.com/a/wire-secure-messenger.html', 'https://fossdroid.com/a/ntfy-putpost-to-your-phone.html', 'https://fossdroid.com/a/fediphotolineage.html', 'https://fossdroid.com/a/bbc-world-service-newshour-downloader.html', 'https://fossdroid.com/a/peertube-live.html', 'https://fossdroid.com/a/monocles-mail.html', 'https://fossdroid.com/a/anxray.html', 'https://fossdroid.com/a/canada-weather-radar.html', 'https://fossdroid.com/a/fluffychat.html', 'https://fossdroid.com/a/share-to-pinboard.html', 'https://fossdroid.com/a/monocles-social.html', 'https://fossdroid.com/a/guerrilla-mail.html', 'https://fossdroid.com/a/my-location.html', 'https://fossdroid.com/a/news-reader.html', 'https://fossdroid.com/a/meteocool-rain-radar.html', 'https://fossdroid.com/a/pluvia-weather.html', 'https://fossdroid.com/a/no-meu-bairro.html', 'https://fossdroid.com/a/dinomail.html', 'https://fossdroid.com/a/eduvpn.html', 'https://fossdroid.com/a/reactor.html', 'https://fossdroid.com/a/fdroid-forum.html', 'https://fossdroid.com/a/candle.html', 'https://fossdroid.com/a/aniki.html', 'https://fossdroid.com/a/stoneage.html', 'https://fossdroid.com/a/warpinator-for-android-unofficial.html', 'https://fossdroid.com/a/libretrack.html', 'https://fossdroid.com/a/nekome.html', 'https://fossdroid.com/a/select-text-to-search.html', 'https://fossdroid.com/a/er-riki%C3%B0-opi%C3%B0.html', 'https://fossdroid.com/a/kdrive.html', 'https://fossdroid.com/a/wehe.html', 'https://fossdroid.com/a/stealth.html', 'https://fossdroid.com/a/gotifyup.html', 'https://fossdroid.com/a/mull.html', 'https://fossdroid.com/a/sagernet.html', 'https://fossdroid.com/a/quickweather.html', 'https://fossdroid.com/a/brook-plugin-sagernet.html', 'https://fossdroid.com/a/naiveproxy-plugin-sagernet.html', 'https://fossdroid.com/a/trojango-plugin-sagernet.html', 'https://fossdroid.com/a/ping-tunnel-plugin-sagernet.html', 'https://fossdroid.com/a/monocles-browser.html', 'https://fossdroid.com/a/paynoway.html', 'https://fossdroid.com/a/monocles-chat.html', 'https://fossdroid.com/a/pixeldroid.html', 'https://fossdroid.com/a/fingerlist.html', 'https://fossdroid.com/a/lavabit-proxy.html', 'https://fossdroid.com/a/vpn-hotspot-2.html', 'https://fossdroid.com/a/glider-for-hacker-news.html', 'https://fossdroid.com/a/weather-overview.html', 'https://fossdroid.com/a/rethinkdns-fast-private-and-safe-dns-+-firewall.html', 'https://fossdroid.com/a/aix-weather-widget.html', 'https://fossdroid.com/a/xenia.html', 'https://fossdroid.com/a/geometric-weather-2.html', 'https://fossdroid.com/a/einkbro.html', 'https://fossdroid.com/a/stingle-photos.html', 'https://fossdroid.com/a/wormhole.html', 'https://fossdroid.com/a/anchr-for-android.html', 'https://fossdroid.com/a/raag.html', 'https://fossdroid.com/a/croc.html', 'https://fossdroid.com/a/nekogram-x.html', 'https://fossdroid.com/a/fritter.html', 'https://fossdroid.com/a/uatranslit.html', 'https://fossdroid.com/a/watomatic-auto-reply-for-whatsapp.html', 'https://fossdroid.com/a/invizible-pro-increase-your-security-protect-you.html', 'https://fossdroid.com/a/atox.html', 'https://fossdroid.com/a/lemmur.html', 'https://fossdroid.com/a/twidere-x.html', 'https://fossdroid.com/a/mebis.html', 'https://fossdroid.com/a/dvd.html', 'https://fossdroid.com/a/weather-2.html', 'https://fossdroid.com/a/kurobaexfdroid.html', 'https://fossdroid.com/a/dawn.html', 'https://fossdroid.com/a/deedum.html', 'https://fossdroid.com/a/pixezviewer.html', 'https://fossdroid.com/a/smoke.html', 'https://fossdroid.com/a/urlsanitizer.html', 'https://fossdroid.com/a/freehamburger.html', 'https://fossdroid.com/a/metager-suche.html', 'https://fossdroid.com/a/liteshort.html', 'https://fossdroid.com/a/clima.html', 'https://fossdroid.com/a/bonjourbrowser.html', 'https://fossdroid.com/a/mensa.html', 'https://fossdroid.com/a/spell4wiki.html', 'https://fossdroid.com/a/yaga.html', 'https://fossdroid.com/a/search-searx.html', 'https://fossdroid.com/a/setter.html', 'https://fossdroid.com/a/radarweather.html', 'https://fossdroid.com/a/chiver.html', 'https://fossdroid.com/a/dashchan.html', 'https://fossdroid.com/a/blokada-5-ad-blocker-and-privacy-app.html', 'https://fossdroid.com/a/news-2.html', 'https://fossdroid.com/a/yggdrasil.html', 'https://fossdroid.com/a/archlinux-forums.html', 'https://fossdroid.com/a/infinity.html', 'https://fossdroid.com/a/geometric-weather.html', 'https://fossdroid.com/a/mobilizon.html', 'https://fossdroid.com/a/nexttracks.html', 'https://fossdroid.com/a/website-monitor.html', 'https://fossdroid.com/a/tiny-weather-forecast-germany.html', 'https://fossdroid.com/a/tubelab-2.html', 'https://fossdroid.com/a/anonaddy.html', 'https://fossdroid.com/a/curator.html', 'https://fossdroid.com/a/nofb-event-scraper.html', 'https://fossdroid.com/a/schildichat.html', 'https://fossdroid.com/a/holywarsoo.html', 'https://fossdroid.com/a/wechange.html', 'https://fossdroid.com/a/instagrabber-2.html', 'https://fossdroid.com/a/tubelab.html', 'https://fossdroid.com/a/element-riotim.html', 'https://fossdroid.com/a/imgurviewer.html', 'https://fossdroid.com/a/trackercontrol.html', 'https://fossdroid.com/a/simplelogin.html', 'https://fossdroid.com/a/password-store-2.html', 'https://fossdroid.com/a/husky.html', 'https://fossdroid.com/a/tnef-extractor.html', 'https://fossdroid.com/a/untrackme-lite.html', 'https://fossdroid.com/a/baresip+.html', 'https://fossdroid.com/a/home.html', 'https://fossdroid.com/a/nclientv2.html', 'https://fossdroid.com/a/dokuwiki.html', 'https://fossdroid.com/a/ttorrent-search.html', 'https://fossdroid.com/a/musicbrainz.html', 'https://fossdroid.com/a/mumla.html', 'https://fossdroid.com/a/midori-next.html', 'https://fossdroid.com/a/ag-store.html', 'https://fossdroid.com/a/network-tools-library.html', 'https://fossdroid.com/a/lttrs.html', 'https://fossdroid.com/a/whatsapp-web-to-go.html', 'https://fossdroid.com/a/yashlang.html', 'https://fossdroid.com/a/gitfox.html', 'https://fossdroid.com/a/ctemplar.html', 'https://fossdroid.com/a/substitution-plan.html', 'https://fossdroid.com/a/youtube-listing-app.html', 'https://fossdroid.com/a/ktrip.html', 'https://fossdroid.com/a/snikket.html', 'https://fossdroid.com/a/dpi-tunnel.html', 'https://fossdroid.com/a/nitterizeme.html', 'https://fossdroid.com/a/kandroid-2.html', 'https://fossdroid.com/a/readrops.html', 'https://fossdroid.com/a/gymwen.html', 'https://fossdroid.com/a/betteruntis.html', 'https://fossdroid.com/a/bandcampdirect.html', 'https://fossdroid.com/a/hypezig.html', 'https://fossdroid.com/a/ksync.html', 'https://fossdroid.com/a/fyreplace.html', 'https://fossdroid.com/a/better-schedule.html', 'https://fossdroid.com/a/safeprice.html', 'https://fossdroid.com/a/profilbildgenerator.html', 'https://fossdroid.com/a/p2play.html', 'https://fossdroid.com/a/whatsdeleted.html', 'https://fossdroid.com/a/librem-social-beta.html', 'https://fossdroid.com/a/koyuspace.html', 'https://fossdroid.com/a/librem-chat.html', 'https://fossdroid.com/a/xabber-2.html', 'https://fossdroid.com/a/librem-tunnel.html', 'https://fossdroid.com/a/jquarks.html', 'https://fossdroid.com/a/fedilab-lite.html', 'https://fossdroid.com/a/speedtest-by-federico-dossena.html', 'https://fossdroid.com/a/fedi-photo.html', 'https://fossdroid.com/a/simplesshd.html', 'https://fossdroid.com/a/xmpp-admin.html', 'https://fossdroid.com/a/dankchat.html', 'https://fossdroid.com/a/smartcookieweb.html', 'https://fossdroid.com/a/cryptot.html', 'https://fossdroid.com/a/lmd.html', 'https://fossdroid.com/a/termbin.html', 'https://fossdroid.com/a/ipcalc.html', 'https://fossdroid.com/a/opendnsupdater.html', 'https://fossdroid.com/a/atalk.html', 'https://fossdroid.com/a/atop.html', 'https://fossdroid.com/a/painlessmesh.html', 'https://fossdroid.com/a/librem-mail.html', 'https://fossdroid.com/a/librem-social.html', 'https://fossdroid.com/a/webthingify.html', 'https://fossdroid.com/a/whatsapp-twitch-stickers.html', 'https://fossdroid.com/a/deck.html', 'https://fossdroid.com/a/warmshowers.html', 'https://fossdroid.com/a/feedwatcher.html', 'https://fossdroid.com/a/download-navi.html', 'https://fossdroid.com/a/calyx-vpn.html', 'https://fossdroid.com/a/tazapp.html', 'https://fossdroid.com/a/freshrss.html', 'https://fossdroid.com/a/gitnex.html', 'https://fossdroid.com/a/flutterhole.html', 'https://fossdroid.com/a/indigenous.html', 'https://fossdroid.com/a/ausweisapp2.html', 'https://fossdroid.com/a/susiai.html', 'https://fossdroid.com/a/dsbdirect.html', 'https://fossdroid.com/a/poul-bits.html', 'https://fossdroid.com/a/riseup-vpn.html', 'https://fossdroid.com/a/openhub.html', 'https://fossdroid.com/a/k3pler.html', 'https://fossdroid.com/a/hu-berlin-wifi-installer.html', 'https://fossdroid.com/a/eduroamcat.html', 'https://fossdroid.com/a/easy-weather.html', 'https://fossdroid.com/a/change-detection.html', 'https://fossdroid.com/a/wifi-manager.html', 'https://fossdroid.com/a/bhagavad-gita.html', 'https://fossdroid.com/a/gamedealz.html', 'https://fossdroid.com/a/scraperclub.html', 'https://fossdroid.com/a/ebooks.html', 'https://fossdroid.com/a/androdns.html', 'https://fossdroid.com/a/dnsfilter.html', 'https://fossdroid.com/a/sweet-ipfs.html', 'https://fossdroid.com/a/saidit.html', 'https://fossdroid.com/a/hacs.html', 'https://fossdroid.com/a/vadret.html', 'https://fossdroid.com/a/nosurf-for-reddit.html', 'https://fossdroid.com/a/open-in-whatsapp.html', 'https://fossdroid.com/a/frost.html', 'https://fossdroid.com/a/quicksy.html', 'https://fossdroid.com/a/email.html', 'https://fossdroid.com/a/gotify.html', 'https://fossdroid.com/a/aria2app.html', 'https://fossdroid.com/a/saucenao.html', 'https://fossdroid.com/a/baresip.html', 'https://fossdroid.com/a/weather-forecast.html', 'https://fossdroid.com/a/bookmarkos.html', 'https://fossdroid.com/a/disroot-app.html', 'https://fossdroid.com/a/nomad.html', 'https://fossdroid.com/a/aria2android.html', 'https://fossdroid.com/a/lobsters-app.html', 'https://fossdroid.com/a/syncthingfork.html', 'https://fossdroid.com/a/web-media-share.html', 'https://fossdroid.com/a/bk-doorlock.html', 'https://fossdroid.com/a/custom-search.html', 'https://fossdroid.com/a/apkmirror.html', 'https://fossdroid.com/a/fairemail.html', 'https://fossdroid.com/a/freifunkkarte.html', 'https://fossdroid.com/a/openuntis.html', 'https://fossdroid.com/a/mundraub.html', 'https://fossdroid.com/a/laano.html', 'https://fossdroid.com/a/ipcam-demo.html', 'https://fossdroid.com/a/tutanota.html', 'https://fossdroid.com/a/dns-hero.html', 'https://fossdroid.com/a/pastebin.html', 'https://fossdroid.com/a/metalabdoorwidget.html', 'https://fossdroid.com/a/openeventandroid.html', 'https://fossdroid.com/a/eventyay-organizer.html', 'https://fossdroid.com/a/dandelior.html', 'https://fossdroid.com/a/trireme-for-deluge.html', 'https://fossdroid.com/a/pixart-messenger.html', 'https://fossdroid.com/a/adguard-content-blocker.html', 'https://fossdroid.com/a/habpanelviewer.html', 'https://fossdroid.com/a/stratum-0-widget.html', 'https://fossdroid.com/a/simple-search.html', 'https://fossdroid.com/a/nc-bookmark-viewer.html', 'https://fossdroid.com/a/twitlatte.html', 'https://fossdroid.com/a/termbot.html', 'https://fossdroid.com/a/seamapdroid.html', 'https://fossdroid.com/a/updater-for-spotify.html', 'https://fossdroid.com/a/reotwe.html', 'https://fossdroid.com/a/openhab-beta.html', 'https://fossdroid.com/a/swiss-army-search.html', 'https://fossdroid.com/a/nextcloud-talk.html', 'https://fossdroid.com/a/freedombox.html', 'https://fossdroid.com/a/openhab.html', 'https://fossdroid.com/a/dib2qm.html', 'https://fossdroid.com/a/tiny-tiny-rss.html', 'https://fossdroid.com/a/tiny-tiny-feed.html', 'https://fossdroid.com/a/ocelot.html', 'https://fossdroid.com/a/bitmask.html', 'https://fossdroid.com/a/syncthing-lite.html', 'https://fossdroid.com/a/your-local-weather.html', 'https://fossdroid.com/a/revolution-irc.html', 'https://fossdroid.com/a/launcher-2.html', 'https://fossdroid.com/a/pocket-gopher.html', 'https://fossdroid.com/a/afreerdp.html', 'https://fossdroid.com/a/biglybt-torrent-downloader.html', 'https://fossdroid.com/a/nock-nock-beta.html', 'https://fossdroid.com/a/adfree.html', 'https://fossdroid.com/a/blokada-ad-blocker.html', 'https://fossdroid.com/a/commonslab-2.html', 'https://fossdroid.com/a/mastalab.html', 'https://fossdroid.com/a/another-rss.html', 'https://fossdroid.com/a/torrent-client.html', 'https://fossdroid.com/a/trifa.html', 'https://fossdroid.com/a/chromium-swe-updater.html', 'https://fossdroid.com/a/nextinpact-unofficial.html', 'https://fossdroid.com/a/mouseapp.html', 'https://fossdroid.com/a/ooniprobe.html', 'https://fossdroid.com/a/just-craigslist.html', 'https://fossdroid.com/a/simple-weather.html', 'https://fossdroid.com/a/save-to-nextcloud-bookmarks.html', 'https://fossdroid.com/a/commonslab.html', 'https://fossdroid.com/a/overchan-fork.html', 'https://fossdroid.com/a/captiveportallogin.html', 'https://fossdroid.com/a/kandroid.html', 'https://fossdroid.com/a/feeder.html', 'https://fossdroid.com/a/tusky.html', 'https://fossdroid.com/a/tremotesf.html', 'https://fossdroid.com/a/delta-chat.html', 'https://fossdroid.com/a/lnkshortener.html', 'https://fossdroid.com/a/inventum.html', 'https://fossdroid.com/a/behe-explorer.html', 'https://fossdroid.com/a/k4android.html', 'https://fossdroid.com/a/kiba.html', 'https://fossdroid.com/a/teleposter.html', 'https://fossdroid.com/a/twdwyr.html', 'https://fossdroid.com/a/dolidroid.html', 'https://fossdroid.com/a/browser.html', 'https://fossdroid.com/a/simple-irc.html', 'https://fossdroid.com/a/good-weather.html', 'https://fossdroid.com/a/materialfbook.html', 'https://fossdroid.com/a/slimsocial-for-twitter.html', 'https://fossdroid.com/a/slimsocial-for-facebook.html', 'https://fossdroid.com/a/toffeed.html', 'https://fossdroid.com/a/dns66.html', 'https://fossdroid.com/a/libretorrent.html', 'https://fossdroid.com/a/sigfood.html', 'https://fossdroid.com/a/materialistic.html', 'https://fossdroid.com/a/inbox-pager.html', 'https://fossdroid.com/a/simplert.html', 'https://fossdroid.com/a/commons.html', 'https://fossdroid.com/a/netcfg-widget.html', 'https://fossdroid.com/a/viborafeed.html', 'https://fossdroid.com/a/url-forwarder.html', 'https://fossdroid.com/a/fbclient.html', 'https://fossdroid.com/a/jumpgo.html', 'https://fossdroid.com/a/afh-downloader.html', 'https://fossdroid.com/a/opengapps-downloader.html', 'https://fossdroid.com/a/qing-xin-tian-qi.html', 'https://fossdroid.com/a/nextcloud.html', 'https://fossdroid.com/a/xposed-downloader.html', 'https://fossdroid.com/a/nextcloud-beta.html', 'https://fossdroid.com/a/watransmitter.html', 'https://fossdroid.com/a/messenger-bypasser.html', 'https://fossdroid.com/a/pjuu-2.html', 'https://fossdroid.com/a/bienvenido-a-internet.html', 'https://fossdroid.com/a/basketbuild-downloader.html', 'https://fossdroid.com/a/tensor.html', 'https://fossdroid.com/a/privacy-browser.html', 'https://fossdroid.com/a/diaspora-2.html', 'https://fossdroid.com/a/getchromium.html', 'https://fossdroid.com/a/wetter.html', 'https://fossdroid.com/a/imapnotes2.html', 'https://fossdroid.com/a/bulkshare-2.html', 'https://fossdroid.com/a/sg-for-steamgifts.html', 'https://fossdroid.com/a/facebook-notifications.html', 'https://fossdroid.com/a/open-link-with.html', 'https://fossdroid.com/a/beta-updater-for-whatsapp.html', 'https://fossdroid.com/a/voice-recorder-plugin.html', 'https://fossdroid.com/a/gitlab.html', 'https://fossdroid.com/a/do-swimmer.html', 'https://fossdroid.com/a/forecastie.html', 'https://fossdroid.com/a/showsrage.html', 'https://fossdroid.com/a/alldebrid.html', 'https://fossdroid.com/a/downloadfilesweb.html', 'https://fossdroid.com/a/pointim.html', 'https://fossdroid.com/a/webapps.html', 'https://fossdroid.com/a/mbrowser.html', 'https://fossdroid.com/a/critical-maps.html', 'https://fossdroid.com/a/goblim.html', 'https://fossdroid.com/a/networkmapper.html', 'https://fossdroid.com/a/xabber-classic.html', 'https://fossdroid.com/a/ffupdater.html', 'https://fossdroid.com/a/ninja.html', 'https://fossdroid.com/a/fwknop2.html', 'https://fossdroid.com/a/kimai.html', 'https://fossdroid.com/a/easyrss.html', 'https://fossdroid.com/a/linuxcounter.html', 'https://fossdroid.com/a/shaarlier.html', 'https://fossdroid.com/a/overchan.html', 'https://fossdroid.com/a/triplecamel.html', 'https://fossdroid.com/a/pomfshare.html', 'https://fossdroid.com/a/gigaget.html', 'https://fossdroid.com/a/qbittorrent-client-pro.html', 'https://fossdroid.com/a/ckpool-watcher.html', 'https://fossdroid.com/a/icicle-for-freenet.html', 'https://fossdroid.com/a/facebook-lite.html', 'https://fossdroid.com/a/mercuryssh.html', 'https://fossdroid.com/a/save-for-offline.html', 'https://fossdroid.com/a/4pda.html', 'https://fossdroid.com/a/open-in-browser.html', 'https://fossdroid.com/a/weather-skin-bigger-text.html', 'https://fossdroid.com/a/weather-skin-black-text-plus.html', 'https://fossdroid.com/a/weather-skin-white-text-plus.html', 'https://fossdroid.com/a/fennec-fdroid.html', 'https://fossdroid.com/a/potdroid.html', 'https://fossdroid.com/a/vuze-remote.html', 'https://fossdroid.com/a/tinfoil-for-twitter.html', 'https://fossdroid.com/a/transdrone.html', 'https://fossdroid.com/a/gear-shift.html', 'https://fossdroid.com/a/wikipedia.html', 'https://fossdroid.com/a/droidbeard.html', 'https://fossdroid.com/a/safeslinger-exchange-for-security-developers.html', 'https://fossdroid.com/a/elloshare.html', 'https://fossdroid.com/a/logmein.html', 'https://fossdroid.com/a/fon.html', 'https://fossdroid.com/a/syncthing.html', 'https://fossdroid.com/a/urlhda.html', 'https://fossdroid.com/a/cadroid.html', 'https://fossdroid.com/a/passera.html', 'https://fossdroid.com/a/anode.html', 'https://fossdroid.com/a/orwall.html', 'https://fossdroid.com/a/pastee-droid.html', 'https://fossdroid.com/a/lucid-browser.html', 'https://fossdroid.com/a/twister.html', 'https://fossdroid.com/a/quasseldroid.html', 'https://fossdroid.com/a/lightning-2.html', 'https://fossdroid.com/a/frog-password-generator.html', 'https://fossdroid.com/a/akvo-rsr-up.html', 'https://fossdroid.com/a/clover.html', 'https://fossdroid.com/a/goldeneye.html', 'https://fossdroid.com/a/conversations.html', 'https://fossdroid.com/a/atomic.html', 'https://fossdroid.com/a/tinc.html', 'https://fossdroid.com/a/quickmsg.html', 'https://fossdroid.com/a/simple-rss.html', 'https://fossdroid.com/a/intentradio.html', 'https://fossdroid.com/a/wallabag.html', 'https://fossdroid.com/a/drupal-editor.html', 'https://fossdroid.com/a/shaman.html', 'https://fossdroid.com/a/hostisdown.html', 'https://fossdroid.com/a/reddinator.html', 'https://fossdroid.com/a/telegram.html', 'https://fossdroid.com/a/openredmine.html', 'https://fossdroid.com/a/pgpauth.html', 'https://fossdroid.com/a/plumble.html', 'https://fossdroid.com/a/openconnect.html', 'https://fossdroid.com/a/blippex.html', 'https://fossdroid.com/a/tpb-proxy.html', 'https://fossdroid.com/a/behat-reporter.html', 'https://fossdroid.com/a/browser-intercept-share-url.html', 'https://fossdroid.com/a/transdroid.html', 'https://fossdroid.com/a/aokpco.html', 'https://fossdroid.com/a/duckduckgo.html', 'https://fossdroid.com/a/short-url-evaluator.html', 'https://fossdroid.com/a/seafile-2.html', 'https://fossdroid.com/a/check-network.html', 'https://fossdroid.com/a/mustard.html', 'https://fossdroid.com/a/multiping.html', 'https://fossdroid.com/a/apg.html', 'https://fossdroid.com/a/openvpn-for-android.html', 'https://fossdroid.com/a/gapps-browser.html', 'https://fossdroid.com/a/tigase-messenger.html', 'https://fossdroid.com/a/davdroid.html', 'https://fossdroid.com/a/polipoid.html', 'https://fossdroid.com/a/k9-mail.html', 'https://fossdroid.com/a/prepay-credit.html', 'https://fossdroid.com/a/owncloud-news-reader.html', 'https://fossdroid.com/a/puma.html', 'https://fossdroid.com/a/radio-reddit.html', 'https://fossdroid.com/a/mustard-mod.html', 'https://fossdroid.com/a/tinfoil-for-facebook.html', 'https://fossdroid.com/a/bombusmod.html', 'https://fossdroid.com/a/connectbot.html', 'https://fossdroid.com/a/impeller.html', 'https://fossdroid.com/a/regalandroid.html', 'https://fossdroid.com/a/scuttloid.html', 'https://fossdroid.com/a/redreader-beta.html', 'https://fossdroid.com/a/blitzmail.html', 'https://fossdroid.com/a/kontalk.html', 'https://fossdroid.com/a/adblock-plus.html', 'https://fossdroid.com/a/reddit-by-brian.html', 'https://fossdroid.com/a/send-with-ftp.html', 'https://fossdroid.com/a/weechat.html', 'https://fossdroid.com/a/aicia.html', 'https://fossdroid.com/a/friendica.html', 'https://fossdroid.com/a/openvpn-settings.html', 'https://fossdroid.com/a/frostwire.html', 'https://fossdroid.com/a/si-ci-yuan.html', 'https://fossdroid.com/a/yubnub-command-line.html', 'https://fossdroid.com/a/tint-browser.html', 'https://fossdroid.com/a/tint-browser-adblock-addon.html', 'https://fossdroid.com/a/twidere-extension-twitlonger.html', 'https://fossdroid.com/a/share-via-http.html', 'https://fossdroid.com/a/vx-connectbot.html', 'https://fossdroid.com/a/transdroid-torrent-search.html', 'https://fossdroid.com/a/slw-cpu-widget.html', 'https://fossdroid.com/a/send-to-computer.html', 'https://fossdroid.com/a/weather-skin-black.html', 'https://fossdroid.com/a/pinboard.html', 'https://fossdroid.com/a/campyre.html', 'https://fossdroid.com/a/fon-access.html', 'https://fossdroid.com/a/anarxiv.html', 'https://fossdroid.com/a/andstatus.html', 'https://fossdroid.com/a/link-shortener-for-tinyurl.html', 'https://fossdroid.com/a/owncloud.html', 'https://fossdroid.com/a/twidere.html', 'https://fossdroid.com/a/password-hash.html', 'https://fossdroid.com/a/diode.html', 'https://fossdroid.com/a/andfhem.html', 'https://fossdroid.com/a/sparkleshare.html', 'https://fossdroid.com/a/weather-notification.html', 'https://fossdroid.com/a/zirco-browser.html', 'https://fossdroid.com/a/yaaic.html', 'https://fossdroid.com/a/ttrssreader.html', 'https://fossdroid.com/a/yaxim.html']\n",
      "****************Printing All APK Links**********\n"
     ]
    },
    {
     "name": "stdout",
     "output_type": "stream",
     "text": [
      "****************Downloading APKs**********\n",
      "matsuri.apk\n",
      "guo-zao-ke.apk\n",
      "v2ex.apk\n",
      "url-checker.apk\n",
      "danxi.apk\n"
     ]
    },
    {
     "ename": "KeyboardInterrupt",
     "evalue": "",
     "output_type": "error",
     "traceback": [
      "\u001b[1;31m---------------------------------------------------------------------------\u001b[0m",
      "\u001b[1;31mKeyboardInterrupt\u001b[0m                         Traceback (most recent call last)",
      "\u001b[1;32m<ipython-input-9-263240bbee7e>\u001b[0m in \u001b[0;36m<module>\u001b[1;34m\u001b[0m\n\u001b[1;32m----> 1\u001b[1;33m \u001b[0mmain\u001b[0m\u001b[1;33m(\u001b[0m\u001b[1;33m)\u001b[0m\u001b[1;33m\u001b[0m\u001b[1;33m\u001b[0m\u001b[0m\n\u001b[0m",
      "\u001b[1;32m<ipython-input-8-59865d0ab842>\u001b[0m in \u001b[0;36mmain\u001b[1;34m()\u001b[0m\n\u001b[0;32m     19\u001b[0m     \u001b[0mall_apk_links\u001b[0m \u001b[1;33m=\u001b[0m \u001b[0mget_apk_links\u001b[0m\u001b[1;33m(\u001b[0m\u001b[0mall_links\u001b[0m\u001b[1;33m)\u001b[0m\u001b[1;33m\u001b[0m\u001b[1;33m\u001b[0m\u001b[0m\n\u001b[0;32m     20\u001b[0m     \u001b[0mprint\u001b[0m\u001b[1;33m(\u001b[0m\u001b[1;34m\"****************Downloading APKs**********\"\u001b[0m\u001b[1;33m)\u001b[0m\u001b[1;33m\u001b[0m\u001b[1;33m\u001b[0m\u001b[0m\n\u001b[1;32m---> 21\u001b[1;33m     \u001b[0mdownload_apk\u001b[0m\u001b[1;33m(\u001b[0m\u001b[0mall_apk_links\u001b[0m\u001b[1;33m)\u001b[0m\u001b[1;33m\u001b[0m\u001b[1;33m\u001b[0m\u001b[0m\n\u001b[0m\u001b[0;32m     22\u001b[0m \u001b[1;33m\u001b[0m\u001b[0m\n\u001b[0;32m     23\u001b[0m     \u001b[0mprint\u001b[0m\u001b[1;33m(\u001b[0m\u001b[1;34m\"****************Printing All GitHub Links**********\"\u001b[0m\u001b[1;33m)\u001b[0m\u001b[1;33m\u001b[0m\u001b[1;33m\u001b[0m\u001b[0m\n",
      "\u001b[1;32m<ipython-input-7-58acb7527e53>\u001b[0m in \u001b[0;36mdownload_apk\u001b[1;34m(all_apk_links_list)\u001b[0m\n\u001b[0;32m      1\u001b[0m \u001b[1;32mdef\u001b[0m \u001b[0mdownload_apk\u001b[0m\u001b[1;33m(\u001b[0m\u001b[0mall_apk_links_list\u001b[0m\u001b[1;33m)\u001b[0m\u001b[1;33m:\u001b[0m\u001b[1;33m\u001b[0m\u001b[1;33m\u001b[0m\u001b[0m\n\u001b[0;32m      2\u001b[0m     \u001b[1;32mfor\u001b[0m \u001b[0meach_apk_link\u001b[0m \u001b[1;32min\u001b[0m \u001b[0mall_apk_links_list\u001b[0m\u001b[1;33m:\u001b[0m\u001b[1;33m\u001b[0m\u001b[1;33m\u001b[0m\u001b[0m\n\u001b[1;32m----> 3\u001b[1;33m         \u001b[0mr\u001b[0m \u001b[1;33m=\u001b[0m \u001b[0mrequests\u001b[0m\u001b[1;33m.\u001b[0m\u001b[0mget\u001b[0m\u001b[1;33m(\u001b[0m\u001b[0meach_apk_link\u001b[0m\u001b[1;33m,\u001b[0m \u001b[0mallow_redirects\u001b[0m\u001b[1;33m=\u001b[0m\u001b[1;32mTrue\u001b[0m\u001b[1;33m)\u001b[0m\u001b[1;33m\u001b[0m\u001b[1;33m\u001b[0m\u001b[0m\n\u001b[0m\u001b[0;32m      4\u001b[0m         \u001b[0mfilename\u001b[0m \u001b[1;33m=\u001b[0m \u001b[0meach_apk_link\u001b[0m\u001b[1;33m[\u001b[0m\u001b[1;36m24\u001b[0m\u001b[1;33m:\u001b[0m\u001b[1;33m]\u001b[0m\u001b[1;33m\u001b[0m\u001b[1;33m\u001b[0m\u001b[0m\n\u001b[0;32m      5\u001b[0m         \u001b[0mprint\u001b[0m\u001b[1;33m(\u001b[0m\u001b[0mfilename\u001b[0m\u001b[1;33m)\u001b[0m\u001b[1;33m\u001b[0m\u001b[1;33m\u001b[0m\u001b[0m\n",
      "\u001b[1;32m~\\anaconda3\\lib\\site-packages\\requests\\api.py\u001b[0m in \u001b[0;36mget\u001b[1;34m(url, params, **kwargs)\u001b[0m\n\u001b[0;32m     74\u001b[0m \u001b[1;33m\u001b[0m\u001b[0m\n\u001b[0;32m     75\u001b[0m     \u001b[0mkwargs\u001b[0m\u001b[1;33m.\u001b[0m\u001b[0msetdefault\u001b[0m\u001b[1;33m(\u001b[0m\u001b[1;34m'allow_redirects'\u001b[0m\u001b[1;33m,\u001b[0m \u001b[1;32mTrue\u001b[0m\u001b[1;33m)\u001b[0m\u001b[1;33m\u001b[0m\u001b[1;33m\u001b[0m\u001b[0m\n\u001b[1;32m---> 76\u001b[1;33m     \u001b[1;32mreturn\u001b[0m \u001b[0mrequest\u001b[0m\u001b[1;33m(\u001b[0m\u001b[1;34m'get'\u001b[0m\u001b[1;33m,\u001b[0m \u001b[0murl\u001b[0m\u001b[1;33m,\u001b[0m \u001b[0mparams\u001b[0m\u001b[1;33m=\u001b[0m\u001b[0mparams\u001b[0m\u001b[1;33m,\u001b[0m \u001b[1;33m**\u001b[0m\u001b[0mkwargs\u001b[0m\u001b[1;33m)\u001b[0m\u001b[1;33m\u001b[0m\u001b[1;33m\u001b[0m\u001b[0m\n\u001b[0m\u001b[0;32m     77\u001b[0m \u001b[1;33m\u001b[0m\u001b[0m\n\u001b[0;32m     78\u001b[0m \u001b[1;33m\u001b[0m\u001b[0m\n",
      "\u001b[1;32m~\\anaconda3\\lib\\site-packages\\requests\\api.py\u001b[0m in \u001b[0;36mrequest\u001b[1;34m(method, url, **kwargs)\u001b[0m\n\u001b[0;32m     59\u001b[0m     \u001b[1;31m# cases, and look like a memory leak in others.\u001b[0m\u001b[1;33m\u001b[0m\u001b[1;33m\u001b[0m\u001b[1;33m\u001b[0m\u001b[0m\n\u001b[0;32m     60\u001b[0m     \u001b[1;32mwith\u001b[0m \u001b[0msessions\u001b[0m\u001b[1;33m.\u001b[0m\u001b[0mSession\u001b[0m\u001b[1;33m(\u001b[0m\u001b[1;33m)\u001b[0m \u001b[1;32mas\u001b[0m \u001b[0msession\u001b[0m\u001b[1;33m:\u001b[0m\u001b[1;33m\u001b[0m\u001b[1;33m\u001b[0m\u001b[0m\n\u001b[1;32m---> 61\u001b[1;33m         \u001b[1;32mreturn\u001b[0m \u001b[0msession\u001b[0m\u001b[1;33m.\u001b[0m\u001b[0mrequest\u001b[0m\u001b[1;33m(\u001b[0m\u001b[0mmethod\u001b[0m\u001b[1;33m=\u001b[0m\u001b[0mmethod\u001b[0m\u001b[1;33m,\u001b[0m \u001b[0murl\u001b[0m\u001b[1;33m=\u001b[0m\u001b[0murl\u001b[0m\u001b[1;33m,\u001b[0m \u001b[1;33m**\u001b[0m\u001b[0mkwargs\u001b[0m\u001b[1;33m)\u001b[0m\u001b[1;33m\u001b[0m\u001b[1;33m\u001b[0m\u001b[0m\n\u001b[0m\u001b[0;32m     62\u001b[0m \u001b[1;33m\u001b[0m\u001b[0m\n\u001b[0;32m     63\u001b[0m \u001b[1;33m\u001b[0m\u001b[0m\n",
      "\u001b[1;32m~\\anaconda3\\lib\\site-packages\\requests\\sessions.py\u001b[0m in \u001b[0;36mrequest\u001b[1;34m(self, method, url, params, data, headers, cookies, files, auth, timeout, allow_redirects, proxies, hooks, stream, verify, cert, json)\u001b[0m\n\u001b[0;32m    540\u001b[0m         }\n\u001b[0;32m    541\u001b[0m         \u001b[0msend_kwargs\u001b[0m\u001b[1;33m.\u001b[0m\u001b[0mupdate\u001b[0m\u001b[1;33m(\u001b[0m\u001b[0msettings\u001b[0m\u001b[1;33m)\u001b[0m\u001b[1;33m\u001b[0m\u001b[1;33m\u001b[0m\u001b[0m\n\u001b[1;32m--> 542\u001b[1;33m         \u001b[0mresp\u001b[0m \u001b[1;33m=\u001b[0m \u001b[0mself\u001b[0m\u001b[1;33m.\u001b[0m\u001b[0msend\u001b[0m\u001b[1;33m(\u001b[0m\u001b[0mprep\u001b[0m\u001b[1;33m,\u001b[0m \u001b[1;33m**\u001b[0m\u001b[0msend_kwargs\u001b[0m\u001b[1;33m)\u001b[0m\u001b[1;33m\u001b[0m\u001b[1;33m\u001b[0m\u001b[0m\n\u001b[0m\u001b[0;32m    543\u001b[0m \u001b[1;33m\u001b[0m\u001b[0m\n\u001b[0;32m    544\u001b[0m         \u001b[1;32mreturn\u001b[0m \u001b[0mresp\u001b[0m\u001b[1;33m\u001b[0m\u001b[1;33m\u001b[0m\u001b[0m\n",
      "\u001b[1;32m~\\anaconda3\\lib\\site-packages\\requests\\sessions.py\u001b[0m in \u001b[0;36msend\u001b[1;34m(self, request, **kwargs)\u001b[0m\n\u001b[0;32m    675\u001b[0m             \u001b[1;31m# Redirect resolving generator.\u001b[0m\u001b[1;33m\u001b[0m\u001b[1;33m\u001b[0m\u001b[1;33m\u001b[0m\u001b[0m\n\u001b[0;32m    676\u001b[0m             \u001b[0mgen\u001b[0m \u001b[1;33m=\u001b[0m \u001b[0mself\u001b[0m\u001b[1;33m.\u001b[0m\u001b[0mresolve_redirects\u001b[0m\u001b[1;33m(\u001b[0m\u001b[0mr\u001b[0m\u001b[1;33m,\u001b[0m \u001b[0mrequest\u001b[0m\u001b[1;33m,\u001b[0m \u001b[1;33m**\u001b[0m\u001b[0mkwargs\u001b[0m\u001b[1;33m)\u001b[0m\u001b[1;33m\u001b[0m\u001b[1;33m\u001b[0m\u001b[0m\n\u001b[1;32m--> 677\u001b[1;33m             \u001b[0mhistory\u001b[0m \u001b[1;33m=\u001b[0m \u001b[1;33m[\u001b[0m\u001b[0mresp\u001b[0m \u001b[1;32mfor\u001b[0m \u001b[0mresp\u001b[0m \u001b[1;32min\u001b[0m \u001b[0mgen\u001b[0m\u001b[1;33m]\u001b[0m\u001b[1;33m\u001b[0m\u001b[1;33m\u001b[0m\u001b[0m\n\u001b[0m\u001b[0;32m    678\u001b[0m         \u001b[1;32melse\u001b[0m\u001b[1;33m:\u001b[0m\u001b[1;33m\u001b[0m\u001b[1;33m\u001b[0m\u001b[0m\n\u001b[0;32m    679\u001b[0m             \u001b[0mhistory\u001b[0m \u001b[1;33m=\u001b[0m \u001b[1;33m[\u001b[0m\u001b[1;33m]\u001b[0m\u001b[1;33m\u001b[0m\u001b[1;33m\u001b[0m\u001b[0m\n",
      "\u001b[1;32m~\\anaconda3\\lib\\site-packages\\requests\\sessions.py\u001b[0m in \u001b[0;36m<listcomp>\u001b[1;34m(.0)\u001b[0m\n\u001b[0;32m    675\u001b[0m             \u001b[1;31m# Redirect resolving generator.\u001b[0m\u001b[1;33m\u001b[0m\u001b[1;33m\u001b[0m\u001b[1;33m\u001b[0m\u001b[0m\n\u001b[0;32m    676\u001b[0m             \u001b[0mgen\u001b[0m \u001b[1;33m=\u001b[0m \u001b[0mself\u001b[0m\u001b[1;33m.\u001b[0m\u001b[0mresolve_redirects\u001b[0m\u001b[1;33m(\u001b[0m\u001b[0mr\u001b[0m\u001b[1;33m,\u001b[0m \u001b[0mrequest\u001b[0m\u001b[1;33m,\u001b[0m \u001b[1;33m**\u001b[0m\u001b[0mkwargs\u001b[0m\u001b[1;33m)\u001b[0m\u001b[1;33m\u001b[0m\u001b[1;33m\u001b[0m\u001b[0m\n\u001b[1;32m--> 677\u001b[1;33m             \u001b[0mhistory\u001b[0m \u001b[1;33m=\u001b[0m \u001b[1;33m[\u001b[0m\u001b[0mresp\u001b[0m \u001b[1;32mfor\u001b[0m \u001b[0mresp\u001b[0m \u001b[1;32min\u001b[0m \u001b[0mgen\u001b[0m\u001b[1;33m]\u001b[0m\u001b[1;33m\u001b[0m\u001b[1;33m\u001b[0m\u001b[0m\n\u001b[0m\u001b[0;32m    678\u001b[0m         \u001b[1;32melse\u001b[0m\u001b[1;33m:\u001b[0m\u001b[1;33m\u001b[0m\u001b[1;33m\u001b[0m\u001b[0m\n\u001b[0;32m    679\u001b[0m             \u001b[0mhistory\u001b[0m \u001b[1;33m=\u001b[0m \u001b[1;33m[\u001b[0m\u001b[1;33m]\u001b[0m\u001b[1;33m\u001b[0m\u001b[1;33m\u001b[0m\u001b[0m\n",
      "\u001b[1;32m~\\anaconda3\\lib\\site-packages\\requests\\sessions.py\u001b[0m in \u001b[0;36mresolve_redirects\u001b[1;34m(self, resp, req, stream, timeout, verify, cert, proxies, yield_requests, **adapter_kwargs)\u001b[0m\n\u001b[0;32m    235\u001b[0m             \u001b[1;32melse\u001b[0m\u001b[1;33m:\u001b[0m\u001b[1;33m\u001b[0m\u001b[1;33m\u001b[0m\u001b[0m\n\u001b[0;32m    236\u001b[0m \u001b[1;33m\u001b[0m\u001b[0m\n\u001b[1;32m--> 237\u001b[1;33m                 resp = self.send(\n\u001b[0m\u001b[0;32m    238\u001b[0m                     \u001b[0mreq\u001b[0m\u001b[1;33m,\u001b[0m\u001b[1;33m\u001b[0m\u001b[1;33m\u001b[0m\u001b[0m\n\u001b[0;32m    239\u001b[0m                     \u001b[0mstream\u001b[0m\u001b[1;33m=\u001b[0m\u001b[0mstream\u001b[0m\u001b[1;33m,\u001b[0m\u001b[1;33m\u001b[0m\u001b[1;33m\u001b[0m\u001b[0m\n",
      "\u001b[1;32m~\\anaconda3\\lib\\site-packages\\requests\\sessions.py\u001b[0m in \u001b[0;36msend\u001b[1;34m(self, request, **kwargs)\u001b[0m\n\u001b[0;32m    695\u001b[0m \u001b[1;33m\u001b[0m\u001b[0m\n\u001b[0;32m    696\u001b[0m         \u001b[1;32mif\u001b[0m \u001b[1;32mnot\u001b[0m \u001b[0mstream\u001b[0m\u001b[1;33m:\u001b[0m\u001b[1;33m\u001b[0m\u001b[1;33m\u001b[0m\u001b[0m\n\u001b[1;32m--> 697\u001b[1;33m             \u001b[0mr\u001b[0m\u001b[1;33m.\u001b[0m\u001b[0mcontent\u001b[0m\u001b[1;33m\u001b[0m\u001b[1;33m\u001b[0m\u001b[0m\n\u001b[0m\u001b[0;32m    698\u001b[0m \u001b[1;33m\u001b[0m\u001b[0m\n\u001b[0;32m    699\u001b[0m         \u001b[1;32mreturn\u001b[0m \u001b[0mr\u001b[0m\u001b[1;33m\u001b[0m\u001b[1;33m\u001b[0m\u001b[0m\n",
      "\u001b[1;32m~\\anaconda3\\lib\\site-packages\\requests\\models.py\u001b[0m in \u001b[0;36mcontent\u001b[1;34m(self)\u001b[0m\n\u001b[0;32m    829\u001b[0m                 \u001b[0mself\u001b[0m\u001b[1;33m.\u001b[0m\u001b[0m_content\u001b[0m \u001b[1;33m=\u001b[0m \u001b[1;32mNone\u001b[0m\u001b[1;33m\u001b[0m\u001b[1;33m\u001b[0m\u001b[0m\n\u001b[0;32m    830\u001b[0m             \u001b[1;32melse\u001b[0m\u001b[1;33m:\u001b[0m\u001b[1;33m\u001b[0m\u001b[1;33m\u001b[0m\u001b[0m\n\u001b[1;32m--> 831\u001b[1;33m                 \u001b[0mself\u001b[0m\u001b[1;33m.\u001b[0m\u001b[0m_content\u001b[0m \u001b[1;33m=\u001b[0m \u001b[1;34mb''\u001b[0m\u001b[1;33m.\u001b[0m\u001b[0mjoin\u001b[0m\u001b[1;33m(\u001b[0m\u001b[0mself\u001b[0m\u001b[1;33m.\u001b[0m\u001b[0miter_content\u001b[0m\u001b[1;33m(\u001b[0m\u001b[0mCONTENT_CHUNK_SIZE\u001b[0m\u001b[1;33m)\u001b[0m\u001b[1;33m)\u001b[0m \u001b[1;32mor\u001b[0m \u001b[1;34mb''\u001b[0m\u001b[1;33m\u001b[0m\u001b[1;33m\u001b[0m\u001b[0m\n\u001b[0m\u001b[0;32m    832\u001b[0m \u001b[1;33m\u001b[0m\u001b[0m\n\u001b[0;32m    833\u001b[0m         \u001b[0mself\u001b[0m\u001b[1;33m.\u001b[0m\u001b[0m_content_consumed\u001b[0m \u001b[1;33m=\u001b[0m \u001b[1;32mTrue\u001b[0m\u001b[1;33m\u001b[0m\u001b[1;33m\u001b[0m\u001b[0m\n",
      "\u001b[1;32m~\\anaconda3\\lib\\site-packages\\requests\\models.py\u001b[0m in \u001b[0;36mgenerate\u001b[1;34m()\u001b[0m\n\u001b[0;32m    751\u001b[0m             \u001b[1;32mif\u001b[0m \u001b[0mhasattr\u001b[0m\u001b[1;33m(\u001b[0m\u001b[0mself\u001b[0m\u001b[1;33m.\u001b[0m\u001b[0mraw\u001b[0m\u001b[1;33m,\u001b[0m \u001b[1;34m'stream'\u001b[0m\u001b[1;33m)\u001b[0m\u001b[1;33m:\u001b[0m\u001b[1;33m\u001b[0m\u001b[1;33m\u001b[0m\u001b[0m\n\u001b[0;32m    752\u001b[0m                 \u001b[1;32mtry\u001b[0m\u001b[1;33m:\u001b[0m\u001b[1;33m\u001b[0m\u001b[1;33m\u001b[0m\u001b[0m\n\u001b[1;32m--> 753\u001b[1;33m                     \u001b[1;32mfor\u001b[0m \u001b[0mchunk\u001b[0m \u001b[1;32min\u001b[0m \u001b[0mself\u001b[0m\u001b[1;33m.\u001b[0m\u001b[0mraw\u001b[0m\u001b[1;33m.\u001b[0m\u001b[0mstream\u001b[0m\u001b[1;33m(\u001b[0m\u001b[0mchunk_size\u001b[0m\u001b[1;33m,\u001b[0m \u001b[0mdecode_content\u001b[0m\u001b[1;33m=\u001b[0m\u001b[1;32mTrue\u001b[0m\u001b[1;33m)\u001b[0m\u001b[1;33m:\u001b[0m\u001b[1;33m\u001b[0m\u001b[1;33m\u001b[0m\u001b[0m\n\u001b[0m\u001b[0;32m    754\u001b[0m                         \u001b[1;32myield\u001b[0m \u001b[0mchunk\u001b[0m\u001b[1;33m\u001b[0m\u001b[1;33m\u001b[0m\u001b[0m\n\u001b[0;32m    755\u001b[0m                 \u001b[1;32mexcept\u001b[0m \u001b[0mProtocolError\u001b[0m \u001b[1;32mas\u001b[0m \u001b[0me\u001b[0m\u001b[1;33m:\u001b[0m\u001b[1;33m\u001b[0m\u001b[1;33m\u001b[0m\u001b[0m\n",
      "\u001b[1;32m~\\anaconda3\\lib\\site-packages\\urllib3\\response.py\u001b[0m in \u001b[0;36mstream\u001b[1;34m(self, amt, decode_content)\u001b[0m\n\u001b[0;32m    574\u001b[0m         \u001b[1;32melse\u001b[0m\u001b[1;33m:\u001b[0m\u001b[1;33m\u001b[0m\u001b[1;33m\u001b[0m\u001b[0m\n\u001b[0;32m    575\u001b[0m             \u001b[1;32mwhile\u001b[0m \u001b[1;32mnot\u001b[0m \u001b[0mis_fp_closed\u001b[0m\u001b[1;33m(\u001b[0m\u001b[0mself\u001b[0m\u001b[1;33m.\u001b[0m\u001b[0m_fp\u001b[0m\u001b[1;33m)\u001b[0m\u001b[1;33m:\u001b[0m\u001b[1;33m\u001b[0m\u001b[1;33m\u001b[0m\u001b[0m\n\u001b[1;32m--> 576\u001b[1;33m                 \u001b[0mdata\u001b[0m \u001b[1;33m=\u001b[0m \u001b[0mself\u001b[0m\u001b[1;33m.\u001b[0m\u001b[0mread\u001b[0m\u001b[1;33m(\u001b[0m\u001b[0mamt\u001b[0m\u001b[1;33m=\u001b[0m\u001b[0mamt\u001b[0m\u001b[1;33m,\u001b[0m \u001b[0mdecode_content\u001b[0m\u001b[1;33m=\u001b[0m\u001b[0mdecode_content\u001b[0m\u001b[1;33m)\u001b[0m\u001b[1;33m\u001b[0m\u001b[1;33m\u001b[0m\u001b[0m\n\u001b[0m\u001b[0;32m    577\u001b[0m \u001b[1;33m\u001b[0m\u001b[0m\n\u001b[0;32m    578\u001b[0m                 \u001b[1;32mif\u001b[0m \u001b[0mdata\u001b[0m\u001b[1;33m:\u001b[0m\u001b[1;33m\u001b[0m\u001b[1;33m\u001b[0m\u001b[0m\n",
      "\u001b[1;32m~\\anaconda3\\lib\\site-packages\\urllib3\\response.py\u001b[0m in \u001b[0;36mread\u001b[1;34m(self, amt, decode_content, cache_content)\u001b[0m\n\u001b[0;32m    517\u001b[0m             \u001b[1;32melse\u001b[0m\u001b[1;33m:\u001b[0m\u001b[1;33m\u001b[0m\u001b[1;33m\u001b[0m\u001b[0m\n\u001b[0;32m    518\u001b[0m                 \u001b[0mcache_content\u001b[0m \u001b[1;33m=\u001b[0m \u001b[1;32mFalse\u001b[0m\u001b[1;33m\u001b[0m\u001b[1;33m\u001b[0m\u001b[0m\n\u001b[1;32m--> 519\u001b[1;33m                 \u001b[0mdata\u001b[0m \u001b[1;33m=\u001b[0m \u001b[0mself\u001b[0m\u001b[1;33m.\u001b[0m\u001b[0m_fp\u001b[0m\u001b[1;33m.\u001b[0m\u001b[0mread\u001b[0m\u001b[1;33m(\u001b[0m\u001b[0mamt\u001b[0m\u001b[1;33m)\u001b[0m \u001b[1;32mif\u001b[0m \u001b[1;32mnot\u001b[0m \u001b[0mfp_closed\u001b[0m \u001b[1;32melse\u001b[0m \u001b[1;34mb\"\"\u001b[0m\u001b[1;33m\u001b[0m\u001b[1;33m\u001b[0m\u001b[0m\n\u001b[0m\u001b[0;32m    520\u001b[0m                 if (\n\u001b[0;32m    521\u001b[0m                     \u001b[0mamt\u001b[0m \u001b[1;33m!=\u001b[0m \u001b[1;36m0\u001b[0m \u001b[1;32mand\u001b[0m \u001b[1;32mnot\u001b[0m \u001b[0mdata\u001b[0m\u001b[1;33m\u001b[0m\u001b[1;33m\u001b[0m\u001b[0m\n",
      "\u001b[1;32m~\\anaconda3\\lib\\http\\client.py\u001b[0m in \u001b[0;36mread\u001b[1;34m(self, amt)\u001b[0m\n\u001b[0;32m    456\u001b[0m             \u001b[1;31m# Amount is given, implement using readinto\u001b[0m\u001b[1;33m\u001b[0m\u001b[1;33m\u001b[0m\u001b[1;33m\u001b[0m\u001b[0m\n\u001b[0;32m    457\u001b[0m             \u001b[0mb\u001b[0m \u001b[1;33m=\u001b[0m \u001b[0mbytearray\u001b[0m\u001b[1;33m(\u001b[0m\u001b[0mamt\u001b[0m\u001b[1;33m)\u001b[0m\u001b[1;33m\u001b[0m\u001b[1;33m\u001b[0m\u001b[0m\n\u001b[1;32m--> 458\u001b[1;33m             \u001b[0mn\u001b[0m \u001b[1;33m=\u001b[0m \u001b[0mself\u001b[0m\u001b[1;33m.\u001b[0m\u001b[0mreadinto\u001b[0m\u001b[1;33m(\u001b[0m\u001b[0mb\u001b[0m\u001b[1;33m)\u001b[0m\u001b[1;33m\u001b[0m\u001b[1;33m\u001b[0m\u001b[0m\n\u001b[0m\u001b[0;32m    459\u001b[0m             \u001b[1;32mreturn\u001b[0m \u001b[0mmemoryview\u001b[0m\u001b[1;33m(\u001b[0m\u001b[0mb\u001b[0m\u001b[1;33m)\u001b[0m\u001b[1;33m[\u001b[0m\u001b[1;33m:\u001b[0m\u001b[0mn\u001b[0m\u001b[1;33m]\u001b[0m\u001b[1;33m.\u001b[0m\u001b[0mtobytes\u001b[0m\u001b[1;33m(\u001b[0m\u001b[1;33m)\u001b[0m\u001b[1;33m\u001b[0m\u001b[1;33m\u001b[0m\u001b[0m\n\u001b[0;32m    460\u001b[0m         \u001b[1;32melse\u001b[0m\u001b[1;33m:\u001b[0m\u001b[1;33m\u001b[0m\u001b[1;33m\u001b[0m\u001b[0m\n",
      "\u001b[1;32m~\\anaconda3\\lib\\http\\client.py\u001b[0m in \u001b[0;36mreadinto\u001b[1;34m(self, b)\u001b[0m\n\u001b[0;32m    500\u001b[0m         \u001b[1;31m# connection, and the user is reading more bytes than will be provided\u001b[0m\u001b[1;33m\u001b[0m\u001b[1;33m\u001b[0m\u001b[1;33m\u001b[0m\u001b[0m\n\u001b[0;32m    501\u001b[0m         \u001b[1;31m# (for example, reading in 1k chunks)\u001b[0m\u001b[1;33m\u001b[0m\u001b[1;33m\u001b[0m\u001b[1;33m\u001b[0m\u001b[0m\n\u001b[1;32m--> 502\u001b[1;33m         \u001b[0mn\u001b[0m \u001b[1;33m=\u001b[0m \u001b[0mself\u001b[0m\u001b[1;33m.\u001b[0m\u001b[0mfp\u001b[0m\u001b[1;33m.\u001b[0m\u001b[0mreadinto\u001b[0m\u001b[1;33m(\u001b[0m\u001b[0mb\u001b[0m\u001b[1;33m)\u001b[0m\u001b[1;33m\u001b[0m\u001b[1;33m\u001b[0m\u001b[0m\n\u001b[0m\u001b[0;32m    503\u001b[0m         \u001b[1;32mif\u001b[0m \u001b[1;32mnot\u001b[0m \u001b[0mn\u001b[0m \u001b[1;32mand\u001b[0m \u001b[0mb\u001b[0m\u001b[1;33m:\u001b[0m\u001b[1;33m\u001b[0m\u001b[1;33m\u001b[0m\u001b[0m\n\u001b[0;32m    504\u001b[0m             \u001b[1;31m# Ideally, we would raise IncompleteRead if the content-length\u001b[0m\u001b[1;33m\u001b[0m\u001b[1;33m\u001b[0m\u001b[1;33m\u001b[0m\u001b[0m\n",
      "\u001b[1;32m~\\anaconda3\\lib\\socket.py\u001b[0m in \u001b[0;36mreadinto\u001b[1;34m(self, b)\u001b[0m\n\u001b[0;32m    667\u001b[0m         \u001b[1;32mwhile\u001b[0m \u001b[1;32mTrue\u001b[0m\u001b[1;33m:\u001b[0m\u001b[1;33m\u001b[0m\u001b[1;33m\u001b[0m\u001b[0m\n\u001b[0;32m    668\u001b[0m             \u001b[1;32mtry\u001b[0m\u001b[1;33m:\u001b[0m\u001b[1;33m\u001b[0m\u001b[1;33m\u001b[0m\u001b[0m\n\u001b[1;32m--> 669\u001b[1;33m                 \u001b[1;32mreturn\u001b[0m \u001b[0mself\u001b[0m\u001b[1;33m.\u001b[0m\u001b[0m_sock\u001b[0m\u001b[1;33m.\u001b[0m\u001b[0mrecv_into\u001b[0m\u001b[1;33m(\u001b[0m\u001b[0mb\u001b[0m\u001b[1;33m)\u001b[0m\u001b[1;33m\u001b[0m\u001b[1;33m\u001b[0m\u001b[0m\n\u001b[0m\u001b[0;32m    670\u001b[0m             \u001b[1;32mexcept\u001b[0m \u001b[0mtimeout\u001b[0m\u001b[1;33m:\u001b[0m\u001b[1;33m\u001b[0m\u001b[1;33m\u001b[0m\u001b[0m\n\u001b[0;32m    671\u001b[0m                 \u001b[0mself\u001b[0m\u001b[1;33m.\u001b[0m\u001b[0m_timeout_occurred\u001b[0m \u001b[1;33m=\u001b[0m \u001b[1;32mTrue\u001b[0m\u001b[1;33m\u001b[0m\u001b[1;33m\u001b[0m\u001b[0m\n",
      "\u001b[1;32m~\\anaconda3\\lib\\ssl.py\u001b[0m in \u001b[0;36mrecv_into\u001b[1;34m(self, buffer, nbytes, flags)\u001b[0m\n\u001b[0;32m   1239\u001b[0m                   \u001b[1;34m\"non-zero flags not allowed in calls to recv_into() on %s\"\u001b[0m \u001b[1;33m%\u001b[0m\u001b[1;33m\u001b[0m\u001b[1;33m\u001b[0m\u001b[0m\n\u001b[0;32m   1240\u001b[0m                   self.__class__)\n\u001b[1;32m-> 1241\u001b[1;33m             \u001b[1;32mreturn\u001b[0m \u001b[0mself\u001b[0m\u001b[1;33m.\u001b[0m\u001b[0mread\u001b[0m\u001b[1;33m(\u001b[0m\u001b[0mnbytes\u001b[0m\u001b[1;33m,\u001b[0m \u001b[0mbuffer\u001b[0m\u001b[1;33m)\u001b[0m\u001b[1;33m\u001b[0m\u001b[1;33m\u001b[0m\u001b[0m\n\u001b[0m\u001b[0;32m   1242\u001b[0m         \u001b[1;32melse\u001b[0m\u001b[1;33m:\u001b[0m\u001b[1;33m\u001b[0m\u001b[1;33m\u001b[0m\u001b[0m\n\u001b[0;32m   1243\u001b[0m             \u001b[1;32mreturn\u001b[0m \u001b[0msuper\u001b[0m\u001b[1;33m(\u001b[0m\u001b[1;33m)\u001b[0m\u001b[1;33m.\u001b[0m\u001b[0mrecv_into\u001b[0m\u001b[1;33m(\u001b[0m\u001b[0mbuffer\u001b[0m\u001b[1;33m,\u001b[0m \u001b[0mnbytes\u001b[0m\u001b[1;33m,\u001b[0m \u001b[0mflags\u001b[0m\u001b[1;33m)\u001b[0m\u001b[1;33m\u001b[0m\u001b[1;33m\u001b[0m\u001b[0m\n",
      "\u001b[1;32m~\\anaconda3\\lib\\ssl.py\u001b[0m in \u001b[0;36mread\u001b[1;34m(self, len, buffer)\u001b[0m\n\u001b[0;32m   1097\u001b[0m         \u001b[1;32mtry\u001b[0m\u001b[1;33m:\u001b[0m\u001b[1;33m\u001b[0m\u001b[1;33m\u001b[0m\u001b[0m\n\u001b[0;32m   1098\u001b[0m             \u001b[1;32mif\u001b[0m \u001b[0mbuffer\u001b[0m \u001b[1;32mis\u001b[0m \u001b[1;32mnot\u001b[0m \u001b[1;32mNone\u001b[0m\u001b[1;33m:\u001b[0m\u001b[1;33m\u001b[0m\u001b[1;33m\u001b[0m\u001b[0m\n\u001b[1;32m-> 1099\u001b[1;33m                 \u001b[1;32mreturn\u001b[0m \u001b[0mself\u001b[0m\u001b[1;33m.\u001b[0m\u001b[0m_sslobj\u001b[0m\u001b[1;33m.\u001b[0m\u001b[0mread\u001b[0m\u001b[1;33m(\u001b[0m\u001b[0mlen\u001b[0m\u001b[1;33m,\u001b[0m \u001b[0mbuffer\u001b[0m\u001b[1;33m)\u001b[0m\u001b[1;33m\u001b[0m\u001b[1;33m\u001b[0m\u001b[0m\n\u001b[0m\u001b[0;32m   1100\u001b[0m             \u001b[1;32melse\u001b[0m\u001b[1;33m:\u001b[0m\u001b[1;33m\u001b[0m\u001b[1;33m\u001b[0m\u001b[0m\n\u001b[0;32m   1101\u001b[0m                 \u001b[1;32mreturn\u001b[0m \u001b[0mself\u001b[0m\u001b[1;33m.\u001b[0m\u001b[0m_sslobj\u001b[0m\u001b[1;33m.\u001b[0m\u001b[0mread\u001b[0m\u001b[1;33m(\u001b[0m\u001b[0mlen\u001b[0m\u001b[1;33m)\u001b[0m\u001b[1;33m\u001b[0m\u001b[1;33m\u001b[0m\u001b[0m\n",
      "\u001b[1;31mKeyboardInterrupt\u001b[0m: "
     ]
    }
   ],
   "source": [
    "main()"
   ]
  },
  {
   "cell_type": "code",
   "execution_count": null,
   "id": "2e33ac53",
   "metadata": {},
   "outputs": [],
   "source": []
  }
 ],
 "metadata": {
  "kernelspec": {
   "display_name": "Python 3",
   "language": "python",
   "name": "python3"
  },
  "language_info": {
   "codemirror_mode": {
    "name": "ipython",
    "version": 3
   },
   "file_extension": ".py",
   "mimetype": "text/x-python",
   "name": "python",
   "nbconvert_exporter": "python",
   "pygments_lexer": "ipython3",
   "version": "3.8.8"
  }
 },
 "nbformat": 4,
 "nbformat_minor": 5
}
